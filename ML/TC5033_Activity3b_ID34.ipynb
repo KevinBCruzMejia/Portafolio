{
 "cells": [
  {
   "cell_type": "markdown",
   "id": "Bs5yyjBI-qHl",
   "metadata": {
    "id": "Bs5yyjBI-qHl"
   },
   "source": [
    "#####  Advanced Machine Learning Methods\n",
    "\n",
    "Kevin Brandon Cruz Mejía "
   ]
  },
  {
   "cell_type": "markdown",
   "id": "940c6dbc",
   "metadata": {
    "id": "940c6dbc"
   },
   "source": [
    "## TC 5033\n",
    "### Word Embeddings\n",
    "\n",
    "<br>\n",
    "\n",
    "#### Activity 3b: Text Classification using RNNs and AG_NEWS dataset in PyTorch\n",
    "<br>\n",
    "\n",
    "- Objective:\n",
    "    - Understand the basics of Recurrent Neural Networks (RNNs) and their application in text classification.\n",
    "    - Learn how to handle a real-world text dataset, AG_NEWS, in PyTorch.\n",
    "    - Gain hands-on experience in defining, training, and evaluating a text classification model in PyTorch.\n",
    "    \n",
    "<br>\n",
    "\n",
    "- Instructions:\n",
    "    - Data Preparation: Starter code will be provided that loads the AG_NEWS dataset and prepares it for training. Do not modify this part. However, you should be sure to understand it, and comment it, the use of markdown cells is suggested.\n",
    "\n",
    "    - Model Setup: A skeleton code for the RNN model class will be provided. Complete this class and use it to instantiate your model.\n",
    "\n",
    "    - Implementing Accuracy Function: Write a function that takes model predictions and ground truth labels as input and returns the model's accuracy.\n",
    "\n",
    "    - Training Function: Implement a function that performs training on the given model using the AG_NEWS dataset. Your model should achieve an accuracy of at least 80% to get full marks for this part.\n",
    "\n",
    "    - Text Sampling: Write a function that takes a sample text as input and classifies it using your trained model.\n",
    "\n",
    "    - Confusion Matrix: Implement a function to display the confusion matrix for your model on the test data.\n",
    "\n",
    "    - Submission: Submit your completed Jupyter Notebook. Make sure to include a markdown cell at the beginning of the notebook that lists the names of all team members. Teams should consist of 3 to 4 members.\n",
    "    \n",
    "<br>\n",
    "\n",
    "- Evaluation Criteria:\n",
    "\n",
    "    - Correct setup of all the required libraries and modules (10%)\n",
    "    - Code Quality (30%): Your code should be well-organized, clearly commented, and easy to follow. Use also markdown cells for clarity. Comments should be given for all the provided code, this will help you understand its functionality.\n",
    "    \n",
    "   - Functionality (60%):\n",
    "        - All the functions should execute without errors and provide the expected outputs.\n",
    "        - RNN model class (20%)\n",
    "        - Accuracy fucntion (10%)\n",
    "        - Training function (10%)\n",
    "        - Sampling function (10%)\n",
    "        - Confucion matrix (10%)\n",
    "\n",
    "        - The model should achieve at least an 80% accuracy on the AG_NEWS test set for full marks in this criterion.\n"
   ]
  },
  {
   "cell_type": "markdown",
   "id": "4de318da",
   "metadata": {
    "id": "4de318da"
   },
   "source": [
    "Dataset\n",
    "\n",
    "https://pytorch.org/text/stable/datasets.html#text-classification\n",
    "\n",
    "https://paperswithcode.com/dataset/ag-news\n"
   ]
  },
  {
   "cell_type": "markdown",
   "id": "4a9801f9",
   "metadata": {
    "id": "4a9801f9"
   },
   "source": [
    "### Import libraries"
   ]
  },
  {
   "cell_type": "code",
   "execution_count": 1,
   "id": "MYeWxbwyYHuh",
   "metadata": {
    "colab": {
     "base_uri": "https://localhost:8080/"
    },
    "id": "MYeWxbwyYHuh",
    "outputId": "85b71217-29e2-40f3-c2c7-79fa9061db90"
   },
   "outputs": [
    {
     "name": "stdout",
     "output_type": "stream",
     "text": [
      "Collecting portalocker>=2.0.0\n",
      "  Downloading portalocker-2.8.2-py3-none-any.whl (17 kB)\n",
      "Installing collected packages: portalocker\n",
      "Successfully installed portalocker-2.8.2\n"
     ]
    }
   ],
   "source": [
    "!pip install 'portalocker>=2.0.0'"
   ]
  },
  {
   "cell_type": "code",
   "execution_count": 2,
   "id": "878b524f",
   "metadata": {
    "id": "878b524f"
   },
   "outputs": [],
   "source": [
    "# The following libraries are required for running the given code\n",
    "# Please feel free to add any libraries you consider adecuate to complete the assingment.\n",
    "import numpy as np\n",
    "#PyTorch libraries\n",
    "import torch\n",
    "from torchtext.datasets import AG_NEWS\n",
    "# Dataloader library\n",
    "from torch.utils.data import DataLoader\n",
    "from torch.utils.data.dataset import random_split\n",
    "# Libraries to prepare the data\n",
    "from torchtext.data.utils import get_tokenizer\n",
    "from torchtext.vocab import build_vocab_from_iterator\n",
    "from torchtext.data.functional import to_map_style_dataset\n",
    "# neural layers\n",
    "from torch import nn\n",
    "from torch.nn import functional as F\n",
    "from torch.nn.modules import rnn\n",
    "import random\n",
    "# Confusion matrix\n",
    "from sklearn.metrics import confusion_matrix\n",
    "import matplotlib.pyplot as plt\n",
    "import seaborn as sns"
   ]
  },
  {
   "cell_type": "code",
   "execution_count": 3,
   "id": "3bab55f3",
   "metadata": {
    "colab": {
     "base_uri": "https://localhost:8080/"
    },
    "id": "3bab55f3",
    "outputId": "65692fc5-1e61-431d-d85f-21a79f247b66"
   },
   "outputs": [
    {
     "name": "stdout",
     "output_type": "stream",
     "text": [
      "cuda\n"
     ]
    }
   ],
   "source": [
    "# Use GPU if available\n",
    "device = torch.device(\"cuda\" if torch.cuda.is_available() else \"cpu\")\n",
    "print(device)"
   ]
  },
  {
   "cell_type": "markdown",
   "id": "3d38956d",
   "metadata": {
    "id": "3d38956d"
   },
   "source": [
    "### Get the train and the test datasets and dataloaders"
   ]
  },
  {
   "cell_type": "markdown",
   "id": "e9c6b784",
   "metadata": {
    "id": "e9c6b784"
   },
   "source": [
    "Classes:\n",
    "\n",
    "* 1 - World\n",
    "\n",
    "* 2 - Sports\n",
    "\n",
    "* 3 - Business\n",
    "\n",
    "* 4 - Sci/Tech\n",
    "\n",
    "We will convert them to:\n",
    "\n",
    "* 0 - World\n",
    "\n",
    "* 1 - Sports\n",
    "\n",
    "* 2 - Business\n",
    "\n",
    "* 3 - Sci/Tech"
   ]
  },
  {
   "cell_type": "code",
   "execution_count": 4,
   "id": "49fbed19",
   "metadata": {
    "id": "49fbed19"
   },
   "outputs": [],
   "source": [
    "# Split the AG_NEWS dataset into training and test datasets.\n",
    "train_dataset, test_dataset = AG_NEWS()"
   ]
  },
  {
   "cell_type": "code",
   "execution_count": 5,
   "id": "9Z3V8v5eZnKc",
   "metadata": {
    "id": "9Z3V8v5eZnKc"
   },
   "outputs": [],
   "source": [
    "# Convert training and test datasets from an iterable dataset to a map style dataset.\n",
    "train_dataset, test_dataset = to_map_style_dataset(train_dataset), to_map_style_dataset(test_dataset)"
   ]
  },
  {
   "cell_type": "code",
   "execution_count": 6,
   "id": "9c372eb9",
   "metadata": {
    "id": "9c372eb9"
   },
   "outputs": [],
   "source": [
    "# Retrieve a tokenizer function for English language\n",
    "# 'basic_english' tokenizer will convert text to lowercase and split on spaces and punctuation\n",
    "tokeniser = get_tokenizer('basic_english')\n",
    "\n",
    "# Create a tokenizer function to tokenize text\n",
    "def yield_tokens(data):\n",
    "    for _, text in data:\n",
    "        yield tokeniser(text)"
   ]
  },
  {
   "cell_type": "code",
   "execution_count": 7,
   "id": "794d0375",
   "metadata": {
    "id": "794d0375"
   },
   "outputs": [],
   "source": [
    "# Build the vocabulary\n",
    "vocab = build_vocab_from_iterator(yield_tokens(train_dataset), specials=[\"<unk>\"])\n",
    "# Sets the default index for the vocabulary,\n",
    "#if a word is not found in the vocabulary, the index for \"<unk>\" is returned.\n",
    "vocab.set_default_index(vocab[\"<unk>\"])"
   ]
  },
  {
   "cell_type": "code",
   "execution_count": 8,
   "id": "b48268d4",
   "metadata": {
    "colab": {
     "base_uri": "https://localhost:8080/"
    },
    "id": "b48268d4",
    "outputId": "23179301-d216-4436-fb49-2f998fb66312"
   },
   "outputs": [
    {
     "name": "stdout",
     "output_type": "stream",
     "text": [
      "['welcome', 'to', 'te3007'] [3314, 4, 0]\n"
     ]
    }
   ],
   "source": [
    "#test tokens\n",
    "tokens = tokeniser('Welcome to TE3007')\n",
    "print(tokens, vocab(tokens))"
   ]
  },
  {
   "cell_type": "code",
   "execution_count": 9,
   "id": "c8c8f6a6",
   "metadata": {
    "id": "c8c8f6a6"
   },
   "outputs": [],
   "source": [
    "# Set the number of training samples as 90% of the total number of train_dataset\n",
    "NUM_TRAIN = int(len(train_dataset)*0.9)\n",
    "\n",
    "# Set the number of validation samples as 10%\n",
    "NUM_VAL = len(train_dataset) - NUM_TRAIN"
   ]
  },
  {
   "cell_type": "code",
   "execution_count": 10,
   "id": "8290895e",
   "metadata": {
    "id": "8290895e"
   },
   "outputs": [],
   "source": [
    "# Split the train_dataset into two datasets: one for training and one for validation\n",
    "train_dataset, val_dataset = random_split(train_dataset, [NUM_TRAIN, NUM_VAL])"
   ]
  },
  {
   "cell_type": "code",
   "execution_count": 11,
   "id": "cbc75b54",
   "metadata": {
    "colab": {
     "base_uri": "https://localhost:8080/"
    },
    "id": "cbc75b54",
    "outputId": "3240ddb5-58a7-4d05-f3ca-e355034ef628"
   },
   "outputs": [
    {
     "name": "stdout",
     "output_type": "stream",
     "text": [
      "108000 12000 7600\n"
     ]
    }
   ],
   "source": [
    "# Print lenght for train, validation and test dataset\n",
    "print(len(train_dataset), len(val_dataset), len(test_dataset))"
   ]
  },
  {
   "cell_type": "code",
   "execution_count": 12,
   "id": "ffdbf077",
   "metadata": {
    "id": "ffdbf077"
   },
   "outputs": [],
   "source": [
    "# function passed to the DataLoader to process a batch of data as indicated\n",
    "def collate_batch(batch):\n",
    "    # Get label and text\n",
    "    y, x = list(zip(*batch))\n",
    "\n",
    "    # Create list with indices from tokeniser\n",
    "    x = [vocab(tokeniser(text)) for text in x]\n",
    "    x = [t + ([0]*(max_tokens - len(t))) if len(t) < max_tokens else t[:max_tokens] for t in x]\n",
    "\n",
    "    # Prepare the labels, by subtracting 1 to get them in the range 0-3\n",
    "    return torch.tensor(x, dtype=torch.int32), torch.tensor(y, dtype=torch.int32) - 1"
   ]
  },
  {
   "cell_type": "code",
   "execution_count": 13,
   "id": "5eb459c7",
   "metadata": {
    "id": "5eb459c7"
   },
   "outputs": [],
   "source": [
    "labels =  [\"World\", \"Sports\", \"Business\", \"Sci/Tech\"]\n",
    "max_tokens = 50\n",
    "BATCH_SIZE = 256"
   ]
  },
  {
   "cell_type": "code",
   "execution_count": 14,
   "id": "0a55e6ee",
   "metadata": {
    "id": "0a55e6ee"
   },
   "outputs": [],
   "source": [
    "train_loader = DataLoader(train_dataset, batch_size=BATCH_SIZE, collate_fn=collate_batch, shuffle = True)\n",
    "val_loader = DataLoader(val_dataset, batch_size=BATCH_SIZE, collate_fn=collate_batch, shuffle = True)\n",
    "test_loader = DataLoader(test_dataset, batch_size=BATCH_SIZE, collate_fn=collate_batch, shuffle = True)"
   ]
  },
  {
   "cell_type": "markdown",
   "id": "47b98898",
   "metadata": {
    "id": "47b98898"
   },
   "source": [
    "### Let us build our RNN model"
   ]
  },
  {
   "cell_type": "code",
   "execution_count": 15,
   "id": "50f20793",
   "metadata": {
    "id": "50f20793"
   },
   "outputs": [],
   "source": [
    "EMBEDDING_SIZE = 300\n",
    "NEURONS = 256\n",
    "LAYERS = 2\n",
    "NUM_CLASSES = 4"
   ]
  },
  {
   "cell_type": "markdown",
   "id": "pgQzYRZK2VkH",
   "metadata": {
    "id": "pgQzYRZK2VkH"
   },
   "source": [
    "Model Setup: A skeleton code for the RNN model class will be provided. Complete this class and use it to instantiate your model."
   ]
  },
  {
   "cell_type": "code",
   "execution_count": 16,
   "id": "0f7f5621",
   "metadata": {
    "id": "0f7f5621"
   },
   "outputs": [],
   "source": [
    "# Define a class for the RNN model which inherits from nn.Module.\n",
    "class RNN_Model_1(nn.Module):\n",
    "    # Sets up the model architecture with the given parameters.\n",
    "    def __init__(self, embed_size, hidden, layers, num_classes):\n",
    "\n",
    "         # Initialize the superclass nn.Module\n",
    "        super().__init__()\n",
    "\n",
    "        # Turns word indexes into embeddings\n",
    "        # len(vocab) specifies the total number of embeddings to create, one for each word.\n",
    "        self.embedding_layer = nn.Embedding(num_embeddings=len(vocab),\n",
    "                                            embedding_dim=embed_size)\n",
    "\n",
    "        # GRU model used\n",
    "        # input_size = size of the input\n",
    "        # hidden_size = size of the model hidden section\n",
    "        # num_layers = number of stacked layers\n",
    "        # batch_first = indicates that the input will have the batch dimension first\n",
    "        # bidirectional = the model will process the input in both directions\n",
    "        self.rnn = nn.GRU(input_size = embed_size,\n",
    "                          hidden_size = hidden,\n",
    "                          num_layers = layers,\n",
    "                          batch_first = True,\n",
    "                          bidirectional= True)\n",
    "\n",
    "        # FCN that maps the RNN outputs to the number of classes\n",
    "        # 2*hidden is used because the GRU is bidirectional, so it concatenates the hidden states from both directions\n",
    "        self.fc = nn.Linear(in_features=2*hidden,out_features=num_classes)\n",
    "\n",
    "    # Fordward propagation function\n",
    "    def forward(self, x):\n",
    "\n",
    "        # Pass the input through the embedding layer\n",
    "        vector_embs = self.embedding_layer(x)\n",
    "\n",
    "        # Pass the embeddings to the GRU layer\n",
    "        # 'y' are the output features from the last layer of the GRU for each timestep\n",
    "        # 'h' are the hidden states for each layer at the last timestep\n",
    "        y,h = self.rnn(vector_embs)\n",
    "\n",
    "        # Pass the final output features through the fully connected layer\n",
    "        # selects the data from the last timestep of the GRU model\n",
    "        return self.fc(y[:,-1])"
   ]
  },
  {
   "cell_type": "markdown",
   "id": "BdfXXgmA2Qbx",
   "metadata": {
    "id": "BdfXXgmA2Qbx"
   },
   "source": [
    "Implementing Accuracy Function: Write a function that takes model predictions and ground truth labels as input and returns the model's accuracy."
   ]
  },
  {
   "cell_type": "code",
   "execution_count": 17,
   "id": "2a42613f",
   "metadata": {
    "id": "2a42613f"
   },
   "outputs": [],
   "source": [
    "# Define a function to calculate accuracy\n",
    "def accuracy(model, loader):\n",
    "\n",
    "    #Switch the model to evaluation mode\n",
    "    model.eval()\n",
    "\n",
    "    # Move the model to the appropriate device CPU or GPU\n",
    "    model = model.to(device = device)\n",
    "\n",
    "    # Initialize 'correct' as a counter for the number of correct predictions\n",
    "    # Initialize  'total' as a counter for the total number of samples processed\n",
    "    correct = 0\n",
    "    total = 0\n",
    "\n",
    "    # Disable gradient computation not needed during model evaluation\n",
    "    with torch.no_grad():\n",
    "\n",
    "        # Loop over all batches of data in loader.\n",
    "        for data in loader:\n",
    "\n",
    "            # Loads input data and labels in the device\n",
    "            inputs, labels = data[0].to(device), data[1].to(device)\n",
    "\n",
    "             # Pass the input data to the model to get predictions\n",
    "            outputs = model(inputs)\n",
    "\n",
    "            # Search the class with the highest predicted probability\n",
    "            _, predicted = torch.max(outputs, 1)\n",
    "\n",
    "            # Increment the total count by the number of samples in the current batch\n",
    "            total += labels.size(0)\n",
    "\n",
    "            # Increment the correct count by the number of accurately predicted samples in the current batch\n",
    "            correct += (predicted == labels).sum().item()\n",
    "\n",
    "    # Calculate the accuracy as the percentage of correct predictions out of all samples\n",
    "    accuracy = 100 * correct / total\n",
    "    return accuracy"
   ]
  },
  {
   "cell_type": "markdown",
   "id": "LQDtepd12MHo",
   "metadata": {
    "id": "LQDtepd12MHo"
   },
   "source": [
    "Training Function: Implement a function that performs training on the given model using the AG_NEWS dataset. Your model should achieve an accuracy of at least 80% to get full marks for this part."
   ]
  },
  {
   "cell_type": "code",
   "execution_count": 18,
   "id": "5e843e1f",
   "metadata": {
    "id": "5e843e1f"
   },
   "outputs": [],
   "source": [
    "# Define a function for training\n",
    "def train(model, optimiser, epochs=100):\n",
    "\n",
    "    # Move the model to the device GPU or CPU\n",
    "    model.to(device)\n",
    "\n",
    "    # Initialize the loss function CrossEntropyLos\n",
    "    criterion = torch.nn.CrossEntropyLoss()\n",
    "\n",
    "    # Loop over the dataset the number of epochs\n",
    "    for epoch in range(epochs):\n",
    "\n",
    "        # Set the model to training mode\n",
    "        model.train()\n",
    "        # Initialize  running_loss to track the loss over each epoch\n",
    "        running_loss = 0.0\n",
    "\n",
    "        # Loop over all batches in train_loader\n",
    "        for i, data in enumerate(train_loader, 0):\n",
    "\n",
    "            # Load the current batch and labels in the device.\n",
    "            inputs, labels = data[0].to(device), data[1].to(device)\n",
    "\n",
    "            # Clear out gradients of before the forward pass\n",
    "            optimiser.zero_grad()\n",
    "\n",
    "            # Forward pass: Calculates the predicted outputs\n",
    "            outputs = model(inputs)\n",
    "\n",
    "            # Calculates the batch loss using CrossEntropyLoss\n",
    "            loss = criterion(outputs, labels.long())\n",
    "\n",
    "            # Perform a backward pass\n",
    "            loss.backward()\n",
    "\n",
    "            # Perform optimization step to update the model parameters\n",
    "            optimiser.step()\n",
    "\n",
    "            # Add the loss over all batches to get the total loss for the epoch\n",
    "            running_loss += loss.item()\n",
    "\n",
    "        # Calculates the accuracy of the model in the validation dataset\n",
    "        acc = accuracy(model, val_loader)\n",
    "\n",
    "        # Print the epoch number, loss of the epoch and the validation accuracy\n",
    "        print(f'Epoch {epoch + 1}, Loss: {running_loss / len(train_loader)}, Accuracy:{acc}')"
   ]
  },
  {
   "cell_type": "code",
   "execution_count": 19,
   "id": "87775b29",
   "metadata": {
    "id": "87775b29"
   },
   "outputs": [],
   "source": [
    "# Set number of epochs\n",
    "epochs = 10\n",
    "\n",
    "# Set the learning rate\n",
    "lr = 0.001\n",
    "\n",
    "# Instantiate model\n",
    "rnn_model = RNN_Model_1(EMBEDDING_SIZE, NEURONS, LAYERS, NUM_CLASSES)\n",
    "\n",
    "# Initialize Adam optimizer with the model parameters and learning rate\n",
    "optimiser = torch.optim.Adam(rnn_model.parameters(), lr=lr)"
   ]
  },
  {
   "cell_type": "code",
   "execution_count": 20,
   "id": "aec12a1b",
   "metadata": {
    "colab": {
     "base_uri": "https://localhost:8080/"
    },
    "id": "aec12a1b",
    "outputId": "5bdd8457-6f21-41b8-8d0c-469ed451266b",
    "scrolled": true
   },
   "outputs": [
    {
     "name": "stdout",
     "output_type": "stream",
     "text": [
      "Epoch 1, Loss: 0.5602503716239432, Accuracy:90.2\n",
      "Epoch 2, Loss: 0.21993088847582373, Accuracy:91.49166666666666\n",
      "Epoch 3, Loss: 0.14022696504625382, Accuracy:91.79166666666667\n",
      "Epoch 4, Loss: 0.0861948731121435, Accuracy:91.85833333333333\n",
      "Epoch 5, Loss: 0.05112613625692036, Accuracy:91.70833333333333\n",
      "Epoch 6, Loss: 0.03093351052866551, Accuracy:91.50833333333334\n",
      "Epoch 7, Loss: 0.022898591979808435, Accuracy:91.78333333333333\n",
      "Epoch 8, Loss: 0.017310135392582495, Accuracy:91.39166666666667\n",
      "Epoch 9, Loss: 0.01583736403792836, Accuracy:91.56666666666666\n",
      "Epoch 10, Loss: 0.01301896704335463, Accuracy:90.91666666666667\n"
     ]
    }
   ],
   "source": [
    "#Train the model\n",
    "train(rnn_model, optimiser=optimiser,  epochs=epochs)"
   ]
  },
  {
   "cell_type": "markdown",
   "id": "4Vhmy29eCfnG",
   "metadata": {
    "id": "4Vhmy29eCfnG"
   },
   "source": [
    "From the epoch list, it is possible to determine that after epoch 5 the model training starts to oscilate that means the the model with the selected parameters cannot improve the accuracy, however 90% is a good accuracy result."
   ]
  },
  {
   "cell_type": "markdown",
   "id": "9ZXGC3St2D7X",
   "metadata": {
    "id": "9ZXGC3St2D7X"
   },
   "source": [
    "Text Sampling: Write a function that takes a sample text as input and classifies it using your trained model."
   ]
  },
  {
   "cell_type": "code",
   "execution_count": 21,
   "id": "acpmX3n1mR7S",
   "metadata": {
    "id": "acpmX3n1mR7S"
   },
   "outputs": [],
   "source": [
    "def sample_text(model,loader):\n",
    "    # Switch model to evaluation mode\n",
    "    model.to(device)\n",
    "    model.eval()\n",
    "\n",
    "    # Selects randomly a text from the test dataset\n",
    "    sample_index = random.randint(0, len(test_dataset) - 1)\n",
    "    label, text = test_dataset[sample_index]\n",
    "\n",
    "    # Tokenize the text\n",
    "    tokens = vocab(tokeniser(text))\n",
    "\n",
    "    # Implement pad or truncate the sequence to max_tokens\n",
    "    if len(tokens) < max_tokens:\n",
    "        tokens += [0] * (max_tokens - len(tokens))\n",
    "    else:\n",
    "        tokens = tokens[:max_tokens]  # truncate\n",
    "\n",
    "    # Convert tokens to a tensor\n",
    "    tokens_tensor = torch.tensor(tokens, dtype=torch.int32).unsqueeze(0).to(device)\n",
    "\n",
    "    # Get predictions\n",
    "    with torch.no_grad():\n",
    "        output = model(tokens_tensor)\n",
    "        prediction = output.argmax(1).item()\n",
    "\n",
    "    # Get the actual and predicted labels\n",
    "    predicted_label = labels[prediction]\n",
    "\n",
    "    # Subtract 1 because labels are 1-indexed in AG_NEWS\n",
    "    actual_label = labels[label - 1]\n",
    "\n",
    "    # Print the sample text, predicted label, and actual label\n",
    "    print(f'Text: {text}')\n",
    "    print(f'Predicted label: {predicted_label}')\n",
    "    print(f'Actual label: {actual_label}')"
   ]
  },
  {
   "cell_type": "markdown",
   "id": "EerA3zW5DTZ8",
   "metadata": {
    "id": "EerA3zW5DTZ8"
   },
   "source": [
    "Try 1"
   ]
  },
  {
   "cell_type": "code",
   "execution_count": 22,
   "id": "NV27t45BndWn",
   "metadata": {
    "colab": {
     "base_uri": "https://localhost:8080/"
    },
    "id": "NV27t45BndWn",
    "outputId": "cdb7889f-282d-46ab-b687-657d808487e4"
   },
   "outputs": [
    {
     "name": "stdout",
     "output_type": "stream",
     "text": [
      "Text: Fierce Clashes in Iraq Kill 36; 203 Hurt US troops battled Shiite militiamen loyal to rebel cleric Muqtada al-Sadr in the Baghdad slum of Sadr City on Tuesday in fierce fighting that killed 36 people, including \n",
      "Predicted label: World\n",
      "Actual label: World\n"
     ]
    }
   ],
   "source": [
    "sample_text(rnn_model, test_dataset)"
   ]
  },
  {
   "cell_type": "markdown",
   "id": "Zm3AcqE8DVbO",
   "metadata": {
    "id": "Zm3AcqE8DVbO"
   },
   "source": [
    "Try 2"
   ]
  },
  {
   "cell_type": "code",
   "execution_count": 24,
   "id": "u5k-79zhDX0s",
   "metadata": {
    "colab": {
     "base_uri": "https://localhost:8080/"
    },
    "id": "u5k-79zhDX0s",
    "outputId": "917a7146-6990-4606-886d-05869d2599fd"
   },
   "outputs": [
    {
     "name": "stdout",
     "output_type": "stream",
     "text": [
      "Text: News: Report card day looms for federal agencies Cyber security audits find improvement in some agencies, but viruses and worms still plague the halls of government.\\ \n",
      "Predicted label: Sci/Tech\n",
      "Actual label: Sci/Tech\n"
     ]
    }
   ],
   "source": [
    "sample_text(rnn_model, test_dataset)"
   ]
  },
  {
   "cell_type": "markdown",
   "id": "2lGMdX4xwQWz",
   "metadata": {
    "id": "2lGMdX4xwQWz"
   },
   "source": [
    "Confusion Matrix: Implement a function to display the confusion matrix for your model on the test data."
   ]
  },
  {
   "cell_type": "code",
   "execution_count": 25,
   "id": "bb38e093",
   "metadata": {
    "id": "bb38e093"
   },
   "outputs": [],
   "source": [
    "def disp_confusion_matrix(model, test_loader):\n",
    "    # Model in evaluation mode\n",
    "    model.to(device)\n",
    "    model.eval()\n",
    "    # Lists to store the true labels and the predictions\n",
    "    true_targets = []\n",
    "    predictions = []\n",
    "\n",
    "\n",
    "    with torch.no_grad():\n",
    "        for inputs, labels in test_loader:\n",
    "            # Transfer inputs and labels to the device (CPU/GPU)\n",
    "            inputs, labels = inputs.to(device), labels.to(device)\n",
    "\n",
    "            # Get model predictions\n",
    "            outputs = model(inputs)\n",
    "\n",
    "            # Get the index of the max log-probability as the prediction\n",
    "            _, predicted = torch.max(outputs, 1)\n",
    "\n",
    "            # Store true labels\n",
    "            true_targets.extend(labels.cpu().numpy())\n",
    "\n",
    "            # Store predictions\n",
    "            predictions.extend(predicted.cpu().numpy())\n",
    "\n",
    "    # Generate the confusion matrix using the true targets and predictions\n",
    "    cm = confusion_matrix(true_targets, predictions)\n",
    "\n",
    "    # Visualize the confusion matrix using a heatmap\n",
    "    fig, ax = plt.subplots(figsize=(8,8))\n",
    "\n",
    "    # Create a heatmap with the confusion matrix\n",
    "    sns.heatmap(cm, annot=True, fmt='d', ax=ax, cmap=plt.cm.Greens, cbar=False)\n",
    "\n",
    "    # Label the axes with the correct class labels\n",
    "    ax.set_xlabel('Predicted Label')\n",
    "    ax.set_ylabel('True Label')\n",
    "\n",
    "    # Set the class labels as tick labels on the x and y axis\n",
    "    class_labels = [\"World\",\"Sports\",\"Business\",\"Sci/Tech\"]\n",
    "    ax.set_xticklabels(class_labels)\n",
    "    ax.set_yticklabels(class_labels)\n",
    "\n",
    "    # Title for the heatmap\n",
    "    plt.title('Confusion Matrix')\n",
    "    plt.show()"
   ]
  },
  {
   "cell_type": "code",
   "execution_count": 26,
   "id": "e7d73f69",
   "metadata": {
    "colab": {
     "base_uri": "https://localhost:8080/",
     "height": 718
    },
    "id": "e7d73f69",
    "outputId": "ba386ac5-7963-4587-c42a-d3cd702a6c2e"
   },
   "outputs": [
    {
     "data": {
      "image/png": "[encoded data removed]",
      "text/plain": [
       "<Figure size 800x800 with 1 Axes>"
      ]
     },
     "metadata": {},
     "output_type": "display_data"
    }
   ],
   "source": [
    "disp_confusion_matrix(rnn_model, test_loader)"
   ]
  }
 ],
 "metadata": {
  "accelerator": "GPU",
  "colab": {
   "provenance": []
  },
  "kernelspec": {
   "display_name": "Python 3 (ipykernel)",
   "language": "python",
   "name": "python3"
  },
  "language_info": {
   "codemirror_mode": {
    "name": "ipython",
    "version": 3
   },
   "file_extension": ".py",
   "mimetype": "text/x-python",
   "name": "python",
   "nbconvert_exporter": "python",
   "pygments_lexer": "ipython3",
   "version": "3.9.18"
  },
  "varInspector": {
   "cols": {
    "lenName": 16,
    "lenType": 16,
    "lenVar": 40
   },
   "kernels_config": {
    "python": {
     "delete_cmd_postfix": "",
     "delete_cmd_prefix": "del ",
     "library": "var_list.py",
     "varRefreshCmd": "print(var_dic_list())"
    },
    "r": {
     "delete_cmd_postfix": ") ",
     "delete_cmd_prefix": "rm(",
     "library": "var_list.r",
     "varRefreshCmd": "cat(var_dic_list()) "
    }
   },
   "types_to_exclude": [
    "module",
    "function",
    "builtin_function_or_method",
    "instance",
    "_Feature"
   ],
   "window_display": false
  }
 },
 "nbformat": 4,
 "nbformat_minor": 5
}
