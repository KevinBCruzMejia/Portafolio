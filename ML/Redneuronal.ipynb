{
 "cells": [
  {
   "cell_type": "markdown",
   "metadata": {
    "colab_type": "text",
    "id": "view-in-github"
   },
   "source": [
    "<a href=\"https://colab.research.google.com/github/Tecnologico-de-Monterrey-MNA/iayaa-Equipo-36/blob/main/Redneuronal_Equipo36.ipynb\" target=\"_parent\"><img src=\"https://colab.research.google.com/assets/colab-badge.svg\" alt=\"Open In Colab\"/></a>"
   ]
  },
  {
   "cell_type": "markdown",
   "metadata": {
    "id": "VFj0sSM06dYa"
   },
   "source": [
    "#**Maestría en Inteligencia Artificial Aplicada**\n",
    "##**Curso: Inteligencia Artificial y Aprendizaje Automático**\n",
    "###Tecnológico de Monterrey\n",
    "\n",
    "\n",
    "## **Adtividad**\n",
    "###**Red Neuronal Artificial - Perceptrón Multicapa : Multilayer Perceptrón (MLP)**\n"
   ]
  },
  {
   "cell_type": "markdown",
   "metadata": {
    "id": "Qgrvy0RGB9XI"
   },
   "source": [
    "**Autor**\n",
    "\n",
    "*   Kevin Brandon Cruz Mejia \n",
    "\n",
    "\n"
   ]
  },
  {
   "cell_type": "markdown",
   "metadata": {
    "id": "FrJ2ahMODVj1"
   },
   "source": [
    "En cada sección deberás incluir todas las líneas de código necesarias para responder a cada uno de los ejercicios."
   ]
  },
  {
   "cell_type": "code",
   "execution_count": null,
   "metadata": {
    "colab": {
     "base_uri": "https://localhost:8080/",
     "height": 320
    },
    "id": "exXsscs-Dh-2",
    "outputId": "8c7838ea-0df9-4901-f378-2442b5405d32"
   },
   "outputs": [
    {
     "name": "stdout",
     "output_type": "stream",
     "text": [
      "Mounted at /content/drive\n"
     ]
    },
    {
     "data": {
      "text/html": [
       "\n",
       "  <div id=\"df-64c699c5-0a3f-44e2-b088-dae75255ee6f\">\n",
       "    <div class=\"colab-df-container\">\n",
       "      <div>\n",
       "<style scoped>\n",
       "    .dataframe tbody tr th:only-of-type {\n",
       "        vertical-align: middle;\n",
       "    }\n",
       "\n",
       "    .dataframe tbody tr th {\n",
       "        vertical-align: top;\n",
       "    }\n",
       "\n",
       "    .dataframe thead th {\n",
       "        text-align: right;\n",
       "    }\n",
       "</style>\n",
       "<table border=\"1\" class=\"dataframe\">\n",
       "  <thead>\n",
       "    <tr style=\"text-align: right;\">\n",
       "      <th></th>\n",
       "      <th>Page total likes</th>\n",
       "      <th>Type</th>\n",
       "      <th>Category</th>\n",
       "      <th>Post Month</th>\n",
       "      <th>Post Weekday</th>\n",
       "      <th>Post Hour</th>\n",
       "      <th>Paid</th>\n",
       "      <th>Lifetime Post Total Reach</th>\n",
       "      <th>Lifetime Post Total Impressions</th>\n",
       "      <th>Lifetime Engaged Users</th>\n",
       "      <th>Lifetime Post Consumers</th>\n",
       "      <th>Lifetime Post Consumptions</th>\n",
       "      <th>Lifetime Post Impressions by people who have liked your Page</th>\n",
       "      <th>Lifetime Post reach by people who like your Page</th>\n",
       "      <th>Lifetime People who have liked your Page and engaged with your post</th>\n",
       "      <th>comment</th>\n",
       "      <th>like</th>\n",
       "      <th>share</th>\n",
       "      <th>Total Interactions</th>\n",
       "    </tr>\n",
       "  </thead>\n",
       "  <tbody>\n",
       "    <tr>\n",
       "      <th>0</th>\n",
       "      <td>139441</td>\n",
       "      <td>Photo</td>\n",
       "      <td>2</td>\n",
       "      <td>12</td>\n",
       "      <td>4</td>\n",
       "      <td>3</td>\n",
       "      <td>0.0</td>\n",
       "      <td>2752</td>\n",
       "      <td>5091</td>\n",
       "      <td>178</td>\n",
       "      <td>109</td>\n",
       "      <td>159</td>\n",
       "      <td>3078</td>\n",
       "      <td>1640</td>\n",
       "      <td>119</td>\n",
       "      <td>4</td>\n",
       "      <td>79.0</td>\n",
       "      <td>17.0</td>\n",
       "      <td>100</td>\n",
       "    </tr>\n",
       "    <tr>\n",
       "      <th>1</th>\n",
       "      <td>139441</td>\n",
       "      <td>Status</td>\n",
       "      <td>2</td>\n",
       "      <td>12</td>\n",
       "      <td>3</td>\n",
       "      <td>10</td>\n",
       "      <td>0.0</td>\n",
       "      <td>10460</td>\n",
       "      <td>19057</td>\n",
       "      <td>1457</td>\n",
       "      <td>1361</td>\n",
       "      <td>1674</td>\n",
       "      <td>11710</td>\n",
       "      <td>6112</td>\n",
       "      <td>1108</td>\n",
       "      <td>5</td>\n",
       "      <td>130.0</td>\n",
       "      <td>29.0</td>\n",
       "      <td>164</td>\n",
       "    </tr>\n",
       "    <tr>\n",
       "      <th>2</th>\n",
       "      <td>139441</td>\n",
       "      <td>Photo</td>\n",
       "      <td>3</td>\n",
       "      <td>12</td>\n",
       "      <td>3</td>\n",
       "      <td>3</td>\n",
       "      <td>0.0</td>\n",
       "      <td>2413</td>\n",
       "      <td>4373</td>\n",
       "      <td>177</td>\n",
       "      <td>113</td>\n",
       "      <td>154</td>\n",
       "      <td>2812</td>\n",
       "      <td>1503</td>\n",
       "      <td>132</td>\n",
       "      <td>0</td>\n",
       "      <td>66.0</td>\n",
       "      <td>14.0</td>\n",
       "      <td>80</td>\n",
       "    </tr>\n",
       "    <tr>\n",
       "      <th>3</th>\n",
       "      <td>139441</td>\n",
       "      <td>Photo</td>\n",
       "      <td>2</td>\n",
       "      <td>12</td>\n",
       "      <td>2</td>\n",
       "      <td>10</td>\n",
       "      <td>1.0</td>\n",
       "      <td>50128</td>\n",
       "      <td>87991</td>\n",
       "      <td>2211</td>\n",
       "      <td>790</td>\n",
       "      <td>1119</td>\n",
       "      <td>61027</td>\n",
       "      <td>32048</td>\n",
       "      <td>1386</td>\n",
       "      <td>58</td>\n",
       "      <td>1572.0</td>\n",
       "      <td>147.0</td>\n",
       "      <td>1777</td>\n",
       "    </tr>\n",
       "    <tr>\n",
       "      <th>4</th>\n",
       "      <td>139441</td>\n",
       "      <td>Photo</td>\n",
       "      <td>2</td>\n",
       "      <td>12</td>\n",
       "      <td>2</td>\n",
       "      <td>3</td>\n",
       "      <td>0.0</td>\n",
       "      <td>7244</td>\n",
       "      <td>13594</td>\n",
       "      <td>671</td>\n",
       "      <td>410</td>\n",
       "      <td>580</td>\n",
       "      <td>6228</td>\n",
       "      <td>3200</td>\n",
       "      <td>396</td>\n",
       "      <td>19</td>\n",
       "      <td>325.0</td>\n",
       "      <td>49.0</td>\n",
       "      <td>393</td>\n",
       "    </tr>\n",
       "  </tbody>\n",
       "</table>\n",
       "</div>\n",
       "      <button class=\"colab-df-convert\" onclick=\"convertToInteractive('df-64c699c5-0a3f-44e2-b088-dae75255ee6f')\"\n",
       "              title=\"Convert this dataframe to an interactive table.\"\n",
       "              style=\"display:none;\">\n",
       "        \n",
       "  <svg xmlns=\"http://www.w3.org/2000/svg\" height=\"24px\"viewBox=\"0 0 24 24\"\n",
       "       width=\"24px\">\n",
       "    <path d=\"M0 0h24v24H0V0z\" fill=\"none\"/>\n",
       "    <path d=\"M18.56 5.44l.94 2.06.94-2.06 2.06-.94-2.06-.94-.94-2.06-.94 2.06-2.06.94zm-11 1L8.5 8.5l.94-2.06 2.06-.94-2.06-.94L8.5 2.5l-.94 2.06-2.06.94zm10 10l.94 2.06.94-2.06 2.06-.94-2.06-.94-.94-2.06-.94 2.06-2.06.94z\"/><path d=\"M17.41 7.96l-1.37-1.37c-.4-.4-.92-.59-1.43-.59-.52 0-1.04.2-1.43.59L10.3 9.45l-7.72 7.72c-.78.78-.78 2.05 0 2.83L4 21.41c.39.39.9.59 1.41.59.51 0 1.02-.2 1.41-.59l7.78-7.78 2.81-2.81c.8-.78.8-2.07 0-2.86zM5.41 20L4 18.59l7.72-7.72 1.47 1.35L5.41 20z\"/>\n",
       "  </svg>\n",
       "      </button>\n",
       "      \n",
       "  <style>\n",
       "    .colab-df-container {\n",
       "      display:flex;\n",
       "      flex-wrap:wrap;\n",
       "      gap: 12px;\n",
       "    }\n",
       "\n",
       "    .colab-df-convert {\n",
       "      background-color: #E8F0FE;\n",
       "      border: none;\n",
       "      border-radius: 50%;\n",
       "      cursor: pointer;\n",
       "      display: none;\n",
       "      fill: #1967D2;\n",
       "      height: 32px;\n",
       "      padding: 0 0 0 0;\n",
       "      width: 32px;\n",
       "    }\n",
       "\n",
       "    .colab-df-convert:hover {\n",
       "      background-color: #E2EBFA;\n",
       "      box-shadow: 0px 1px 2px rgba(60, 64, 67, 0.3), 0px 1px 3px 1px rgba(60, 64, 67, 0.15);\n",
       "      fill: #174EA6;\n",
       "    }\n",
       "\n",
       "    [theme=dark] .colab-df-convert {\n",
       "      background-color: #3B4455;\n",
       "      fill: #D2E3FC;\n",
       "    }\n",
       "\n",
       "    [theme=dark] .colab-df-convert:hover {\n",
       "      background-color: #434B5C;\n",
       "      box-shadow: 0px 1px 3px 1px rgba(0, 0, 0, 0.15);\n",
       "      filter: drop-shadow(0px 1px 2px rgba(0, 0, 0, 0.3));\n",
       "      fill: #FFFFFF;\n",
       "    }\n",
       "  </style>\n",
       "\n",
       "      <script>\n",
       "        const buttonEl =\n",
       "          document.querySelector('#df-64c699c5-0a3f-44e2-b088-dae75255ee6f button.colab-df-convert');\n",
       "        buttonEl.style.display =\n",
       "          google.colab.kernel.accessAllowed ? 'block' : 'none';\n",
       "\n",
       "        async function convertToInteractive(key) {\n",
       "          const element = document.querySelector('#df-64c699c5-0a3f-44e2-b088-dae75255ee6f');\n",
       "          const dataTable =\n",
       "            await google.colab.kernel.invokeFunction('convertToInteractive',\n",
       "                                                     [key], {});\n",
       "          if (!dataTable) return;\n",
       "\n",
       "          const docLinkHtml = 'Like what you see? Visit the ' +\n",
       "            '<a target=\"_blank\" href=https://colab.research.google.com/notebooks/data_table.ipynb>data table notebook</a>'\n",
       "            + ' to learn more about interactive tables.';\n",
       "          element.innerHTML = '';\n",
       "          dataTable['output_type'] = 'display_data';\n",
       "          await google.colab.output.renderOutput(dataTable, element);\n",
       "          const docLink = document.createElement('div');\n",
       "          docLink.innerHTML = docLinkHtml;\n",
       "          element.appendChild(docLink);\n",
       "        }\n",
       "      </script>\n",
       "    </div>\n",
       "  </div>\n",
       "  "
      ],
      "text/plain": [
       "   Page total likes    Type  Category  Post Month  Post Weekday  Post Hour  \\\n",
       "0            139441   Photo         2          12             4          3   \n",
       "1            139441  Status         2          12             3         10   \n",
       "2            139441   Photo         3          12             3          3   \n",
       "3            139441   Photo         2          12             2         10   \n",
       "4            139441   Photo         2          12             2          3   \n",
       "\n",
       "   Paid  Lifetime Post Total Reach  Lifetime Post Total Impressions  \\\n",
       "0   0.0                       2752                             5091   \n",
       "1   0.0                      10460                            19057   \n",
       "2   0.0                       2413                             4373   \n",
       "3   1.0                      50128                            87991   \n",
       "4   0.0                       7244                            13594   \n",
       "\n",
       "   Lifetime Engaged Users  Lifetime Post Consumers  \\\n",
       "0                     178                      109   \n",
       "1                    1457                     1361   \n",
       "2                     177                      113   \n",
       "3                    2211                      790   \n",
       "4                     671                      410   \n",
       "\n",
       "   Lifetime Post Consumptions  \\\n",
       "0                         159   \n",
       "1                        1674   \n",
       "2                         154   \n",
       "3                        1119   \n",
       "4                         580   \n",
       "\n",
       "   Lifetime Post Impressions by people who have liked your Page  \\\n",
       "0                                               3078              \n",
       "1                                              11710              \n",
       "2                                               2812              \n",
       "3                                              61027              \n",
       "4                                               6228              \n",
       "\n",
       "   Lifetime Post reach by people who like your Page  \\\n",
       "0                                              1640   \n",
       "1                                              6112   \n",
       "2                                              1503   \n",
       "3                                             32048   \n",
       "4                                              3200   \n",
       "\n",
       "   Lifetime People who have liked your Page and engaged with your post  \\\n",
       "0                                                119                     \n",
       "1                                               1108                     \n",
       "2                                                132                     \n",
       "3                                               1386                     \n",
       "4                                                396                     \n",
       "\n",
       "   comment    like  share  Total Interactions  \n",
       "0        4    79.0   17.0                 100  \n",
       "1        5   130.0   29.0                 164  \n",
       "2        0    66.0   14.0                  80  \n",
       "3       58  1572.0  147.0                1777  \n",
       "4       19   325.0   49.0                 393  "
      ]
     },
     "execution_count": 1,
     "metadata": {},
     "output_type": "execute_result"
    }
   ],
   "source": [
    "import pandas as pd\n",
    "import numpy as np\n",
    "import seaborn as sns\n",
    "from google.colab import drive\n",
    "\n",
    "from sklearn.model_selection import train_test_split\n",
    "from sklearn.metrics import make_scorer\n",
    "import matplotlib.pyplot as plt\n",
    "from sklearn.dummy import DummyClassifier\n",
    "\n",
    "from sklearn.inspection import permutation_importance\n",
    "from sklearn.pipeline import Pipeline\n",
    "from sklearn.impute import SimpleImputer\n",
    "from sklearn.preprocessing import StandardScaler, OneHotEncoder\n",
    "\n",
    "from sklearn.preprocessing import FunctionTransformer   \n",
    "from sklearn.compose import ColumnTransformer\n",
    "from sklearn.compose import TransformedTargetRegressor\n",
    "\n",
    "from sklearn.linear_model import LinearRegression\n",
    "from sklearn.neural_network import MLPRegressor\n",
    "\n",
    "from sklearn.tree import DecisionTreeClassifier\n",
    "from sklearn.ensemble import RandomForestClassifier\n",
    "\n",
    "from sklearn.model_selection import GridSearchCV, RepeatedKFold,RepeatedStratifiedKFold,KFold, cross_validate\n",
    "\n",
    "drive.mount('/content/drive')\n",
    "fb_df = pd.read_csv('/content/drive/Shareddrives/IA/dataset_Facebook.csv', sep=';')\n",
    "# el df tiene 500 lineas y 19 columnas\n",
    "fb_df.head()"
   ]
  },
  {
   "cell_type": "code",
   "execution_count": null,
   "metadata": {
    "colab": {
     "base_uri": "https://localhost:8080/"
    },
    "id": "PgZ2i_l4Utge",
    "outputId": "d9806adc-b841-40a5-9902-fa72095e6e3c"
   },
   "outputs": [
    {
     "data": {
      "text/plain": [
       "Index(['Page total likes', 'Type', 'Category', 'Post Month', 'Post Weekday',\n",
       "       'Post Hour', 'Paid', 'Lifetime Post Total Reach',\n",
       "       'Lifetime Post Total Impressions', 'Lifetime Engaged Users',\n",
       "       'Lifetime Post Consumers', 'Lifetime Post Consumptions',\n",
       "       'Lifetime Post Impressions by people who have liked your Page',\n",
       "       'Lifetime Post reach by people who like your Page',\n",
       "       'Lifetime People who have liked your Page and engaged with your post',\n",
       "       'comment', 'like', 'share', 'Total Interactions'],\n",
       "      dtype='object')"
      ]
     },
     "execution_count": 2,
     "metadata": {},
     "output_type": "execute_result"
    }
   ],
   "source": [
    "fb_df.columns"
   ]
  },
  {
   "cell_type": "markdown",
   "metadata": {
    "id": "X25brD-gQdZM"
   },
   "source": [
    "#**Ejercicio-1.** "
   ]
  },
  {
   "cell_type": "code",
   "execution_count": null,
   "metadata": {
    "id": "3nU2GuWYCy6C"
   },
   "outputs": [],
   "source": [
    "fb_df.rename (columns = {'Lifetime People who have liked your Page and engaged with your post' : 'LPE'}, inplace = True ) \n"
   ]
  },
  {
   "cell_type": "code",
   "execution_count": null,
   "metadata": {
    "colab": {
     "base_uri": "https://localhost:8080/",
     "height": 424
    },
    "id": "0ulkqXVGCy97",
    "outputId": "24af9478-cd67-4d18-853c-62c3d7e570f2"
   },
   "outputs": [
    {
     "data": {
      "text/html": [
       "\n",
       "  <div id=\"df-2417b089-1941-44e0-a2e4-d7ae3abd562f\">\n",
       "    <div class=\"colab-df-container\">\n",
       "      <div>\n",
       "<style scoped>\n",
       "    .dataframe tbody tr th:only-of-type {\n",
       "        vertical-align: middle;\n",
       "    }\n",
       "\n",
       "    .dataframe tbody tr th {\n",
       "        vertical-align: top;\n",
       "    }\n",
       "\n",
       "    .dataframe thead th {\n",
       "        text-align: right;\n",
       "    }\n",
       "</style>\n",
       "<table border=\"1\" class=\"dataframe\">\n",
       "  <thead>\n",
       "    <tr style=\"text-align: right;\">\n",
       "      <th></th>\n",
       "      <th>Page total likes</th>\n",
       "      <th>Type</th>\n",
       "      <th>Category</th>\n",
       "      <th>Post Month</th>\n",
       "      <th>Post Weekday</th>\n",
       "      <th>Post Hour</th>\n",
       "      <th>Paid</th>\n",
       "      <th>LPE</th>\n",
       "    </tr>\n",
       "  </thead>\n",
       "  <tbody>\n",
       "    <tr>\n",
       "      <th>0</th>\n",
       "      <td>139441</td>\n",
       "      <td>Photo</td>\n",
       "      <td>2</td>\n",
       "      <td>12</td>\n",
       "      <td>4</td>\n",
       "      <td>3</td>\n",
       "      <td>0.0</td>\n",
       "      <td>119</td>\n",
       "    </tr>\n",
       "    <tr>\n",
       "      <th>1</th>\n",
       "      <td>139441</td>\n",
       "      <td>Status</td>\n",
       "      <td>2</td>\n",
       "      <td>12</td>\n",
       "      <td>3</td>\n",
       "      <td>10</td>\n",
       "      <td>0.0</td>\n",
       "      <td>1108</td>\n",
       "    </tr>\n",
       "    <tr>\n",
       "      <th>2</th>\n",
       "      <td>139441</td>\n",
       "      <td>Photo</td>\n",
       "      <td>3</td>\n",
       "      <td>12</td>\n",
       "      <td>3</td>\n",
       "      <td>3</td>\n",
       "      <td>0.0</td>\n",
       "      <td>132</td>\n",
       "    </tr>\n",
       "    <tr>\n",
       "      <th>3</th>\n",
       "      <td>139441</td>\n",
       "      <td>Photo</td>\n",
       "      <td>2</td>\n",
       "      <td>12</td>\n",
       "      <td>2</td>\n",
       "      <td>10</td>\n",
       "      <td>1.0</td>\n",
       "      <td>1386</td>\n",
       "    </tr>\n",
       "    <tr>\n",
       "      <th>4</th>\n",
       "      <td>139441</td>\n",
       "      <td>Photo</td>\n",
       "      <td>2</td>\n",
       "      <td>12</td>\n",
       "      <td>2</td>\n",
       "      <td>3</td>\n",
       "      <td>0.0</td>\n",
       "      <td>396</td>\n",
       "    </tr>\n",
       "    <tr>\n",
       "      <th>...</th>\n",
       "      <td>...</td>\n",
       "      <td>...</td>\n",
       "      <td>...</td>\n",
       "      <td>...</td>\n",
       "      <td>...</td>\n",
       "      <td>...</td>\n",
       "      <td>...</td>\n",
       "      <td>...</td>\n",
       "    </tr>\n",
       "    <tr>\n",
       "      <th>495</th>\n",
       "      <td>85093</td>\n",
       "      <td>Photo</td>\n",
       "      <td>3</td>\n",
       "      <td>1</td>\n",
       "      <td>7</td>\n",
       "      <td>2</td>\n",
       "      <td>0.0</td>\n",
       "      <td>392</td>\n",
       "    </tr>\n",
       "    <tr>\n",
       "      <th>496</th>\n",
       "      <td>81370</td>\n",
       "      <td>Photo</td>\n",
       "      <td>2</td>\n",
       "      <td>1</td>\n",
       "      <td>5</td>\n",
       "      <td>8</td>\n",
       "      <td>0.0</td>\n",
       "      <td>301</td>\n",
       "    </tr>\n",
       "    <tr>\n",
       "      <th>497</th>\n",
       "      <td>81370</td>\n",
       "      <td>Photo</td>\n",
       "      <td>1</td>\n",
       "      <td>1</td>\n",
       "      <td>5</td>\n",
       "      <td>2</td>\n",
       "      <td>0.0</td>\n",
       "      <td>363</td>\n",
       "    </tr>\n",
       "    <tr>\n",
       "      <th>498</th>\n",
       "      <td>81370</td>\n",
       "      <td>Photo</td>\n",
       "      <td>3</td>\n",
       "      <td>1</td>\n",
       "      <td>4</td>\n",
       "      <td>11</td>\n",
       "      <td>0.0</td>\n",
       "      <td>370</td>\n",
       "    </tr>\n",
       "    <tr>\n",
       "      <th>499</th>\n",
       "      <td>81370</td>\n",
       "      <td>Photo</td>\n",
       "      <td>2</td>\n",
       "      <td>1</td>\n",
       "      <td>4</td>\n",
       "      <td>4</td>\n",
       "      <td>NaN</td>\n",
       "      <td>316</td>\n",
       "    </tr>\n",
       "  </tbody>\n",
       "</table>\n",
       "<p>500 rows × 8 columns</p>\n",
       "</div>\n",
       "      <button class=\"colab-df-convert\" onclick=\"convertToInteractive('df-2417b089-1941-44e0-a2e4-d7ae3abd562f')\"\n",
       "              title=\"Convert this dataframe to an interactive table.\"\n",
       "              style=\"display:none;\">\n",
       "        \n",
       "  <svg xmlns=\"http://www.w3.org/2000/svg\" height=\"24px\"viewBox=\"0 0 24 24\"\n",
       "       width=\"24px\">\n",
       "    <path d=\"M0 0h24v24H0V0z\" fill=\"none\"/>\n",
       "    <path d=\"M18.56 5.44l.94 2.06.94-2.06 2.06-.94-2.06-.94-.94-2.06-.94 2.06-2.06.94zm-11 1L8.5 8.5l.94-2.06 2.06-.94-2.06-.94L8.5 2.5l-.94 2.06-2.06.94zm10 10l.94 2.06.94-2.06 2.06-.94-2.06-.94-.94-2.06-.94 2.06-2.06.94z\"/><path d=\"M17.41 7.96l-1.37-1.37c-.4-.4-.92-.59-1.43-.59-.52 0-1.04.2-1.43.59L10.3 9.45l-7.72 7.72c-.78.78-.78 2.05 0 2.83L4 21.41c.39.39.9.59 1.41.59.51 0 1.02-.2 1.41-.59l7.78-7.78 2.81-2.81c.8-.78.8-2.07 0-2.86zM5.41 20L4 18.59l7.72-7.72 1.47 1.35L5.41 20z\"/>\n",
       "  </svg>\n",
       "      </button>\n",
       "      \n",
       "  <style>\n",
       "    .colab-df-container {\n",
       "      display:flex;\n",
       "      flex-wrap:wrap;\n",
       "      gap: 12px;\n",
       "    }\n",
       "\n",
       "    .colab-df-convert {\n",
       "      background-color: #E8F0FE;\n",
       "      border: none;\n",
       "      border-radius: 50%;\n",
       "      cursor: pointer;\n",
       "      display: none;\n",
       "      fill: #1967D2;\n",
       "      height: 32px;\n",
       "      padding: 0 0 0 0;\n",
       "      width: 32px;\n",
       "    }\n",
       "\n",
       "    .colab-df-convert:hover {\n",
       "      background-color: #E2EBFA;\n",
       "      box-shadow: 0px 1px 2px rgba(60, 64, 67, 0.3), 0px 1px 3px 1px rgba(60, 64, 67, 0.15);\n",
       "      fill: #174EA6;\n",
       "    }\n",
       "\n",
       "    [theme=dark] .colab-df-convert {\n",
       "      background-color: #3B4455;\n",
       "      fill: #D2E3FC;\n",
       "    }\n",
       "\n",
       "    [theme=dark] .colab-df-convert:hover {\n",
       "      background-color: #434B5C;\n",
       "      box-shadow: 0px 1px 3px 1px rgba(0, 0, 0, 0.15);\n",
       "      filter: drop-shadow(0px 1px 2px rgba(0, 0, 0, 0.3));\n",
       "      fill: #FFFFFF;\n",
       "    }\n",
       "  </style>\n",
       "\n",
       "      <script>\n",
       "        const buttonEl =\n",
       "          document.querySelector('#df-2417b089-1941-44e0-a2e4-d7ae3abd562f button.colab-df-convert');\n",
       "        buttonEl.style.display =\n",
       "          google.colab.kernel.accessAllowed ? 'block' : 'none';\n",
       "\n",
       "        async function convertToInteractive(key) {\n",
       "          const element = document.querySelector('#df-2417b089-1941-44e0-a2e4-d7ae3abd562f');\n",
       "          const dataTable =\n",
       "            await google.colab.kernel.invokeFunction('convertToInteractive',\n",
       "                                                     [key], {});\n",
       "          if (!dataTable) return;\n",
       "\n",
       "          const docLinkHtml = 'Like what you see? Visit the ' +\n",
       "            '<a target=\"_blank\" href=https://colab.research.google.com/notebooks/data_table.ipynb>data table notebook</a>'\n",
       "            + ' to learn more about interactive tables.';\n",
       "          element.innerHTML = '';\n",
       "          dataTable['output_type'] = 'display_data';\n",
       "          await google.colab.output.renderOutput(dataTable, element);\n",
       "          const docLink = document.createElement('div');\n",
       "          docLink.innerHTML = docLinkHtml;\n",
       "          element.appendChild(docLink);\n",
       "        }\n",
       "      </script>\n",
       "    </div>\n",
       "  </div>\n",
       "  "
      ],
      "text/plain": [
       "     Page total likes    Type  Category  Post Month  Post Weekday  Post Hour  \\\n",
       "0              139441   Photo         2          12             4          3   \n",
       "1              139441  Status         2          12             3         10   \n",
       "2              139441   Photo         3          12             3          3   \n",
       "3              139441   Photo         2          12             2         10   \n",
       "4              139441   Photo         2          12             2          3   \n",
       "..                ...     ...       ...         ...           ...        ...   \n",
       "495             85093   Photo         3           1             7          2   \n",
       "496             81370   Photo         2           1             5          8   \n",
       "497             81370   Photo         1           1             5          2   \n",
       "498             81370   Photo         3           1             4         11   \n",
       "499             81370   Photo         2           1             4          4   \n",
       "\n",
       "     Paid   LPE  \n",
       "0     0.0   119  \n",
       "1     0.0  1108  \n",
       "2     0.0   132  \n",
       "3     1.0  1386  \n",
       "4     0.0   396  \n",
       "..    ...   ...  \n",
       "495   0.0   392  \n",
       "496   0.0   301  \n",
       "497   0.0   363  \n",
       "498   0.0   370  \n",
       "499   NaN   316  \n",
       "\n",
       "[500 rows x 8 columns]"
      ]
     },
     "execution_count": 4,
     "metadata": {},
     "output_type": "execute_result"
    }
   ],
   "source": [
    "\n",
    "fb_df1 = fb_df[['Page total likes', 'Type', 'Category', 'Post Month', 'Post Weekday','Post Hour', 'Paid', 'LPE']]\n",
    "\n",
    "fb_df_test = fb_df1\n",
    "fb_df1 = pd.DataFrame(fb_df1)\n",
    "fb_df1"
   ]
  },
  {
   "cell_type": "markdown",
   "metadata": {
    "id": "xZhr2hkECzVv"
   },
   "source": [
    "#**Ejercicio-2.**"
   ]
  },
  {
   "cell_type": "code",
   "execution_count": null,
   "metadata": {
    "id": "_AlGrZjMEda7"
   },
   "outputs": [],
   "source": [
    "fb_df1 = fb_df1.dropna()\n",
    "#fb_df1[['Paid']] = fb_df[['Paid']].astype(int)\n",
    "\n",
    "\n",
    "#fb_df1[['Paid']] = fb_df1[['Paid']].round(0).astype(int)\n"
   ]
  },
  {
   "cell_type": "code",
   "execution_count": null,
   "metadata": {
    "colab": {
     "base_uri": "https://localhost:8080/",
     "height": 424
    },
    "id": "syRwbukwdxK-",
    "outputId": "1be39b5e-e471-482a-8a6f-5b5cd535f725"
   },
   "outputs": [
    {
     "data": {
      "text/html": [
       "\n",
       "  <div id=\"df-c5d801d1-3121-4918-8492-fea0eef09cfd\">\n",
       "    <div class=\"colab-df-container\">\n",
       "      <div>\n",
       "<style scoped>\n",
       "    .dataframe tbody tr th:only-of-type {\n",
       "        vertical-align: middle;\n",
       "    }\n",
       "\n",
       "    .dataframe tbody tr th {\n",
       "        vertical-align: top;\n",
       "    }\n",
       "\n",
       "    .dataframe thead th {\n",
       "        text-align: right;\n",
       "    }\n",
       "</style>\n",
       "<table border=\"1\" class=\"dataframe\">\n",
       "  <thead>\n",
       "    <tr style=\"text-align: right;\">\n",
       "      <th></th>\n",
       "      <th>Paid</th>\n",
       "    </tr>\n",
       "  </thead>\n",
       "  <tbody>\n",
       "    <tr>\n",
       "      <th>0</th>\n",
       "      <td>0.0</td>\n",
       "    </tr>\n",
       "    <tr>\n",
       "      <th>1</th>\n",
       "      <td>0.0</td>\n",
       "    </tr>\n",
       "    <tr>\n",
       "      <th>2</th>\n",
       "      <td>0.0</td>\n",
       "    </tr>\n",
       "    <tr>\n",
       "      <th>3</th>\n",
       "      <td>1.0</td>\n",
       "    </tr>\n",
       "    <tr>\n",
       "      <th>4</th>\n",
       "      <td>0.0</td>\n",
       "    </tr>\n",
       "    <tr>\n",
       "      <th>...</th>\n",
       "      <td>...</td>\n",
       "    </tr>\n",
       "    <tr>\n",
       "      <th>494</th>\n",
       "      <td>0.0</td>\n",
       "    </tr>\n",
       "    <tr>\n",
       "      <th>495</th>\n",
       "      <td>0.0</td>\n",
       "    </tr>\n",
       "    <tr>\n",
       "      <th>496</th>\n",
       "      <td>0.0</td>\n",
       "    </tr>\n",
       "    <tr>\n",
       "      <th>497</th>\n",
       "      <td>0.0</td>\n",
       "    </tr>\n",
       "    <tr>\n",
       "      <th>498</th>\n",
       "      <td>0.0</td>\n",
       "    </tr>\n",
       "  </tbody>\n",
       "</table>\n",
       "<p>499 rows × 1 columns</p>\n",
       "</div>\n",
       "      <button class=\"colab-df-convert\" onclick=\"convertToInteractive('df-c5d801d1-3121-4918-8492-fea0eef09cfd')\"\n",
       "              title=\"Convert this dataframe to an interactive table.\"\n",
       "              style=\"display:none;\">\n",
       "        \n",
       "  <svg xmlns=\"http://www.w3.org/2000/svg\" height=\"24px\"viewBox=\"0 0 24 24\"\n",
       "       width=\"24px\">\n",
       "    <path d=\"M0 0h24v24H0V0z\" fill=\"none\"/>\n",
       "    <path d=\"M18.56 5.44l.94 2.06.94-2.06 2.06-.94-2.06-.94-.94-2.06-.94 2.06-2.06.94zm-11 1L8.5 8.5l.94-2.06 2.06-.94-2.06-.94L8.5 2.5l-.94 2.06-2.06.94zm10 10l.94 2.06.94-2.06 2.06-.94-2.06-.94-.94-2.06-.94 2.06-2.06.94z\"/><path d=\"M17.41 7.96l-1.37-1.37c-.4-.4-.92-.59-1.43-.59-.52 0-1.04.2-1.43.59L10.3 9.45l-7.72 7.72c-.78.78-.78 2.05 0 2.83L4 21.41c.39.39.9.59 1.41.59.51 0 1.02-.2 1.41-.59l7.78-7.78 2.81-2.81c.8-.78.8-2.07 0-2.86zM5.41 20L4 18.59l7.72-7.72 1.47 1.35L5.41 20z\"/>\n",
       "  </svg>\n",
       "      </button>\n",
       "      \n",
       "  <style>\n",
       "    .colab-df-container {\n",
       "      display:flex;\n",
       "      flex-wrap:wrap;\n",
       "      gap: 12px;\n",
       "    }\n",
       "\n",
       "    .colab-df-convert {\n",
       "      background-color: #E8F0FE;\n",
       "      border: none;\n",
       "      border-radius: 50%;\n",
       "      cursor: pointer;\n",
       "      display: none;\n",
       "      fill: #1967D2;\n",
       "      height: 32px;\n",
       "      padding: 0 0 0 0;\n",
       "      width: 32px;\n",
       "    }\n",
       "\n",
       "    .colab-df-convert:hover {\n",
       "      background-color: #E2EBFA;\n",
       "      box-shadow: 0px 1px 2px rgba(60, 64, 67, 0.3), 0px 1px 3px 1px rgba(60, 64, 67, 0.15);\n",
       "      fill: #174EA6;\n",
       "    }\n",
       "\n",
       "    [theme=dark] .colab-df-convert {\n",
       "      background-color: #3B4455;\n",
       "      fill: #D2E3FC;\n",
       "    }\n",
       "\n",
       "    [theme=dark] .colab-df-convert:hover {\n",
       "      background-color: #434B5C;\n",
       "      box-shadow: 0px 1px 3px 1px rgba(0, 0, 0, 0.15);\n",
       "      filter: drop-shadow(0px 1px 2px rgba(0, 0, 0, 0.3));\n",
       "      fill: #FFFFFF;\n",
       "    }\n",
       "  </style>\n",
       "\n",
       "      <script>\n",
       "        const buttonEl =\n",
       "          document.querySelector('#df-c5d801d1-3121-4918-8492-fea0eef09cfd button.colab-df-convert');\n",
       "        buttonEl.style.display =\n",
       "          google.colab.kernel.accessAllowed ? 'block' : 'none';\n",
       "\n",
       "        async function convertToInteractive(key) {\n",
       "          const element = document.querySelector('#df-c5d801d1-3121-4918-8492-fea0eef09cfd');\n",
       "          const dataTable =\n",
       "            await google.colab.kernel.invokeFunction('convertToInteractive',\n",
       "                                                     [key], {});\n",
       "          if (!dataTable) return;\n",
       "\n",
       "          const docLinkHtml = 'Like what you see? Visit the ' +\n",
       "            '<a target=\"_blank\" href=https://colab.research.google.com/notebooks/data_table.ipynb>data table notebook</a>'\n",
       "            + ' to learn more about interactive tables.';\n",
       "          element.innerHTML = '';\n",
       "          dataTable['output_type'] = 'display_data';\n",
       "          await google.colab.output.renderOutput(dataTable, element);\n",
       "          const docLink = document.createElement('div');\n",
       "          docLink.innerHTML = docLinkHtml;\n",
       "          element.appendChild(docLink);\n",
       "        }\n",
       "      </script>\n",
       "    </div>\n",
       "  </div>\n",
       "  "
      ],
      "text/plain": [
       "     Paid\n",
       "0     0.0\n",
       "1     0.0\n",
       "2     0.0\n",
       "3     1.0\n",
       "4     0.0\n",
       "..    ...\n",
       "494   0.0\n",
       "495   0.0\n",
       "496   0.0\n",
       "497   0.0\n",
       "498   0.0\n",
       "\n",
       "[499 rows x 1 columns]"
      ]
     },
     "execution_count": 6,
     "metadata": {},
     "output_type": "execute_result"
    }
   ],
   "source": [
    "fb_df1[['Paid']]"
   ]
  },
  {
   "cell_type": "code",
   "execution_count": null,
   "metadata": {
    "colab": {
     "base_uri": "https://localhost:8080/"
    },
    "id": "kGfAoOPkC1PP",
    "outputId": "2534bcf3-42e3-4db7-d71e-8b63a1bc874e"
   },
   "outputs": [
    {
     "name": "stdout",
     "output_type": "stream",
     "text": [
      "(499, 7)\n",
      "(499,)\n"
     ]
    }
   ],
   "source": [
    "X=fb_df1.iloc[:,:-1] \n",
    "Y=fb_df1.iloc[:,-1] \n",
    "\n",
    "print(X.shape)\n",
    "print(Y.shape)"
   ]
  },
  {
   "cell_type": "code",
   "execution_count": null,
   "metadata": {
    "colab": {
     "base_uri": "https://localhost:8080/"
    },
    "id": "GOydw5OGC1MJ",
    "outputId": "9641e4de-d14b-42a4-cb1e-64b3a063a0ed"
   },
   "outputs": [
    {
     "data": {
      "text/plain": [
       "(100, 7)"
      ]
     },
     "execution_count": 8,
     "metadata": {},
     "output_type": "execute_result"
    }
   ],
   "source": [
    "X_train, X_test, y_train, y_test = train_test_split(X, Y, test_size=0.2, shuffle=True,random_state=42)\n",
    "X_train.shape\n",
    "X_test.shape"
   ]
  },
  {
   "cell_type": "markdown",
   "metadata": {
    "id": "NCunuooTC2W3"
   },
   "source": [
    "#**Ejercicio-3.**"
   ]
  },
  {
   "cell_type": "code",
   "execution_count": null,
   "metadata": {
    "id": "YXlcSWA-C4Dj"
   },
   "outputs": [],
   "source": [
    "#Definicion de funciones (error)\n",
    "from sklearn.metrics import mean_squared_error\n",
    "\n",
    "def mi_RMSE (x_real, y_pred):\n",
    "   \n",
    "    MSE = np.square((x_real - y_pred)).mean()\n",
    "    RMSE = np.sqrt(MSE)\n",
    "    return RMSE\n",
    "\n"
   ]
  },
  {
   "cell_type": "code",
   "execution_count": null,
   "metadata": {
    "id": "BKI80-YdC4HN"
   },
   "outputs": [],
   "source": [
    "def mi_MAE (x_real, y_pred):\n",
    "   \n",
    "    MAE = np.abs((x_real - y_pred)).mean()\n",
    "    return MAE"
   ]
  },
  {
   "cell_type": "code",
   "execution_count": null,
   "metadata": {
    "id": "fTFqtqs7mi5g"
   },
   "outputs": [],
   "source": [
    "def mi_MAPE (x_real, y_pred):  \n",
    "  \n",
    "  MAPE = np.abs((x_real - y_pred)/x_real).mean()*100\n",
    "  return MAPE"
   ]
  },
  {
   "cell_type": "code",
   "execution_count": null,
   "metadata": {
    "id": "uEpRBTfTxNCr"
   },
   "outputs": [],
   "source": [
    "def mi_MAPE_INV (x_real, y_pred):  \n",
    "  \n",
    "  MAPE_inv = 100 - np.abs((x_real - y_pred)/x_real).mean()*100\n",
    "  return MAPE_inv"
   ]
  },
  {
   "cell_type": "markdown",
   "metadata": {
    "id": "chqk9jIDC5Pq"
   },
   "source": [
    "\n",
    "#**Ejercicio-4.**"
   ]
  },
  {
   "cell_type": "code",
   "execution_count": null,
   "metadata": {
    "colab": {
     "base_uri": "https://localhost:8080/"
    },
    "id": "RBVSFwK4C6g9",
    "outputId": "6183a230-f0e9-44a3-9d8c-fc008151fd32"
   },
   "outputs": [
    {
     "data": {
      "text/plain": [
       "Page total likes      int64\n",
       "Type                 object\n",
       "Category              int64\n",
       "Post Month            int64\n",
       "Post Weekday          int64\n",
       "Post Hour             int64\n",
       "Paid                float64\n",
       "LPE                   int64\n",
       "dtype: object"
      ]
     },
     "execution_count": 13,
     "metadata": {},
     "output_type": "execute_result"
    }
   ],
   "source": [
    "fb_df1.dtypes  # tipo de dato de cada variable\n"
   ]
  },
  {
   "cell_type": "markdown",
   "metadata": {
    "id": "8DmjhnEFxc6R"
   },
   "source": [
    "#Caracterización Variables\n",
    "\n",
    "Page total likes :     Número de personas que dio me gusta\n",
    "\n",
    "Type :   Tipo de contenido (Foto, Status, link; video)\n",
    "\n",
    "Category   : 3 categorias (accion, producto, inspiración)        \n",
    "\n",
    "Post Month  : Mes de publicación (Van de 1 a 12)\n",
    "\n",
    "Post Weekday : Dia de publicación (Van de 1 a 7)\n",
    "\n",
    "Post Hour : Hora de publicación (Van de 0 a 24)\n",
    "\n",
    "Paid : Binaria (compañia pago a FB si o no)\n",
    "\n",
    "LPE : Variable de Salida "
   ]
  },
  {
   "cell_type": "code",
   "execution_count": null,
   "metadata": {
    "colab": {
     "base_uri": "https://localhost:8080/"
    },
    "id": "4LWiGu0cuWkr",
    "outputId": "b5df35be-b184-44b1-90b8-7221e9820026"
   },
   "outputs": [
    {
     "data": {
      "text/plain": [
       "Photo     425\n",
       "Status     45\n",
       "Link       22\n",
       "Video       7\n",
       "Name: Type, dtype: int64"
      ]
     },
     "execution_count": 14,
     "metadata": {},
     "output_type": "execute_result"
    }
   ],
   "source": [
    "fb_df1['Type'].value_counts() #categorias de la variable type\n",
    "#fb_df1['Post Hour'].value_counts()"
   ]
  },
  {
   "cell_type": "code",
   "execution_count": null,
   "metadata": {
    "colab": {
     "base_uri": "https://localhost:8080/"
    },
    "id": "rG_NcH54venP",
    "outputId": "1ea14b3b-d4be-473a-a53d-40067030c48c"
   },
   "outputs": [
    {
     "name": "stderr",
     "output_type": "stream",
     "text": [
      "/usr/local/lib/python3.7/dist-packages/ipykernel_launcher.py:1: SettingWithCopyWarning: \n",
      "A value is trying to be set on a copy of a slice from a DataFrame.\n",
      "Try using .loc[row_indexer,col_indexer] = value instead\n",
      "\n",
      "See the caveats in the documentation: https://pandas.pydata.org/pandas-docs/stable/user_guide/indexing.html#returning-a-view-versus-a-copy\n",
      "  \"\"\"Entry point for launching an IPython kernel.\n"
     ]
    }
   ],
   "source": [
    "fb_df1['Type'] = fb_df1['Type'].map({'Photo' : 1, 'Status' : 2, 'Link' : 3, 'Video' : 4})\n"
   ]
  },
  {
   "cell_type": "code",
   "execution_count": null,
   "metadata": {
    "colab": {
     "base_uri": "https://localhost:8080/",
     "height": 112
    },
    "id": "mPUzZ036wf0P",
    "outputId": "6092c86a-8839-4345-d14d-63e341198d8b"
   },
   "outputs": [
    {
     "data": {
      "text/html": [
       "\n",
       "  <div id=\"df-90a92a43-cd0c-40f9-afee-312b702ad878\">\n",
       "    <div class=\"colab-df-container\">\n",
       "      <div>\n",
       "<style scoped>\n",
       "    .dataframe tbody tr th:only-of-type {\n",
       "        vertical-align: middle;\n",
       "    }\n",
       "\n",
       "    .dataframe tbody tr th {\n",
       "        vertical-align: top;\n",
       "    }\n",
       "\n",
       "    .dataframe thead th {\n",
       "        text-align: right;\n",
       "    }\n",
       "</style>\n",
       "<table border=\"1\" class=\"dataframe\">\n",
       "  <thead>\n",
       "    <tr style=\"text-align: right;\">\n",
       "      <th></th>\n",
       "      <th>Page total likes</th>\n",
       "      <th>Type</th>\n",
       "      <th>Category</th>\n",
       "      <th>Post Month</th>\n",
       "      <th>Post Weekday</th>\n",
       "      <th>Post Hour</th>\n",
       "      <th>Paid</th>\n",
       "      <th>LPE</th>\n",
       "    </tr>\n",
       "  </thead>\n",
       "  <tbody>\n",
       "    <tr>\n",
       "      <th>0</th>\n",
       "      <td>139441</td>\n",
       "      <td>1</td>\n",
       "      <td>2</td>\n",
       "      <td>12</td>\n",
       "      <td>4</td>\n",
       "      <td>3</td>\n",
       "      <td>0.0</td>\n",
       "      <td>119</td>\n",
       "    </tr>\n",
       "    <tr>\n",
       "      <th>1</th>\n",
       "      <td>139441</td>\n",
       "      <td>2</td>\n",
       "      <td>2</td>\n",
       "      <td>12</td>\n",
       "      <td>3</td>\n",
       "      <td>10</td>\n",
       "      <td>0.0</td>\n",
       "      <td>1108</td>\n",
       "    </tr>\n",
       "  </tbody>\n",
       "</table>\n",
       "</div>\n",
       "      <button class=\"colab-df-convert\" onclick=\"convertToInteractive('df-90a92a43-cd0c-40f9-afee-312b702ad878')\"\n",
       "              title=\"Convert this dataframe to an interactive table.\"\n",
       "              style=\"display:none;\">\n",
       "        \n",
       "  <svg xmlns=\"http://www.w3.org/2000/svg\" height=\"24px\"viewBox=\"0 0 24 24\"\n",
       "       width=\"24px\">\n",
       "    <path d=\"M0 0h24v24H0V0z\" fill=\"none\"/>\n",
       "    <path d=\"M18.56 5.44l.94 2.06.94-2.06 2.06-.94-2.06-.94-.94-2.06-.94 2.06-2.06.94zm-11 1L8.5 8.5l.94-2.06 2.06-.94-2.06-.94L8.5 2.5l-.94 2.06-2.06.94zm10 10l.94 2.06.94-2.06 2.06-.94-2.06-.94-.94-2.06-.94 2.06-2.06.94z\"/><path d=\"M17.41 7.96l-1.37-1.37c-.4-.4-.92-.59-1.43-.59-.52 0-1.04.2-1.43.59L10.3 9.45l-7.72 7.72c-.78.78-.78 2.05 0 2.83L4 21.41c.39.39.9.59 1.41.59.51 0 1.02-.2 1.41-.59l7.78-7.78 2.81-2.81c.8-.78.8-2.07 0-2.86zM5.41 20L4 18.59l7.72-7.72 1.47 1.35L5.41 20z\"/>\n",
       "  </svg>\n",
       "      </button>\n",
       "      \n",
       "  <style>\n",
       "    .colab-df-container {\n",
       "      display:flex;\n",
       "      flex-wrap:wrap;\n",
       "      gap: 12px;\n",
       "    }\n",
       "\n",
       "    .colab-df-convert {\n",
       "      background-color: #E8F0FE;\n",
       "      border: none;\n",
       "      border-radius: 50%;\n",
       "      cursor: pointer;\n",
       "      display: none;\n",
       "      fill: #1967D2;\n",
       "      height: 32px;\n",
       "      padding: 0 0 0 0;\n",
       "      width: 32px;\n",
       "    }\n",
       "\n",
       "    .colab-df-convert:hover {\n",
       "      background-color: #E2EBFA;\n",
       "      box-shadow: 0px 1px 2px rgba(60, 64, 67, 0.3), 0px 1px 3px 1px rgba(60, 64, 67, 0.15);\n",
       "      fill: #174EA6;\n",
       "    }\n",
       "\n",
       "    [theme=dark] .colab-df-convert {\n",
       "      background-color: #3B4455;\n",
       "      fill: #D2E3FC;\n",
       "    }\n",
       "\n",
       "    [theme=dark] .colab-df-convert:hover {\n",
       "      background-color: #434B5C;\n",
       "      box-shadow: 0px 1px 3px 1px rgba(0, 0, 0, 0.15);\n",
       "      filter: drop-shadow(0px 1px 2px rgba(0, 0, 0, 0.3));\n",
       "      fill: #FFFFFF;\n",
       "    }\n",
       "  </style>\n",
       "\n",
       "      <script>\n",
       "        const buttonEl =\n",
       "          document.querySelector('#df-90a92a43-cd0c-40f9-afee-312b702ad878 button.colab-df-convert');\n",
       "        buttonEl.style.display =\n",
       "          google.colab.kernel.accessAllowed ? 'block' : 'none';\n",
       "\n",
       "        async function convertToInteractive(key) {\n",
       "          const element = document.querySelector('#df-90a92a43-cd0c-40f9-afee-312b702ad878');\n",
       "          const dataTable =\n",
       "            await google.colab.kernel.invokeFunction('convertToInteractive',\n",
       "                                                     [key], {});\n",
       "          if (!dataTable) return;\n",
       "\n",
       "          const docLinkHtml = 'Like what you see? Visit the ' +\n",
       "            '<a target=\"_blank\" href=https://colab.research.google.com/notebooks/data_table.ipynb>data table notebook</a>'\n",
       "            + ' to learn more about interactive tables.';\n",
       "          element.innerHTML = '';\n",
       "          dataTable['output_type'] = 'display_data';\n",
       "          await google.colab.output.renderOutput(dataTable, element);\n",
       "          const docLink = document.createElement('div');\n",
       "          docLink.innerHTML = docLinkHtml;\n",
       "          element.appendChild(docLink);\n",
       "        }\n",
       "      </script>\n",
       "    </div>\n",
       "  </div>\n",
       "  "
      ],
      "text/plain": [
       "   Page total likes  Type  Category  Post Month  Post Weekday  Post Hour  \\\n",
       "0            139441     1         2          12             4          3   \n",
       "1            139441     2         2          12             3         10   \n",
       "\n",
       "   Paid   LPE  \n",
       "0   0.0   119  \n",
       "1   0.0  1108  "
      ]
     },
     "execution_count": 16,
     "metadata": {},
     "output_type": "execute_result"
    }
   ],
   "source": [
    "fb_df1.head(2)"
   ]
  },
  {
   "cell_type": "code",
   "execution_count": null,
   "metadata": {
    "colab": {
     "base_uri": "https://localhost:8080/",
     "height": 1000
    },
    "id": "7KXnlNzAC69Y",
    "outputId": "b685ed20-c059-4ba7-92f0-dfbe610084f3"
   },
   "outputs": [
    {
     "data": {
      "image/png": "[encoded data removed]",
      "text/plain": [
       "<Figure size 720x576 with 1 Axes>"
      ]
     },
     "metadata": {},
     "output_type": "display_data"
    },
    {
     "data": {
      "image/png": "[encoded data removed]",
      "text/plain": [
       "<Figure size 720x576 with 1 Axes>"
      ]
     },
     "metadata": {},
     "output_type": "display_data"
    },
    {
     "data": {
      "image/png": "[encoded data removed]",
      "text/plain": [
       "<Figure size 720x576 with 1 Axes>"
      ]
     },
     "metadata": {},
     "output_type": "display_data"
    },
    {
     "data": {
      "image/png": "[encoded data removed]",
      "text/plain": [
       "<Figure size 720x576 with 1 Axes>"
      ]
     },
     "metadata": {},
     "output_type": "display_data"
    },
    {
     "data": {
      "image/png": "[encoded data removed]",
      "text/plain": [
       "<Figure size 720x576 with 1 Axes>"
      ]
     },
     "metadata": {},
     "output_type": "display_data"
    },
    {
     "data": {
      "image/png": "[encoded data removed]",
      "text/plain": [
       "<Figure size 720x576 with 1 Axes>"
      ]
     },
     "metadata": {},
     "output_type": "display_data"
    },
    {
     "data": {
      "image/png": "[encoded data removed]",
      "text/plain": [
       "<Figure size 720x576 with 1 Axes>"
      ]
     },
     "metadata": {},
     "output_type": "display_data"
    },
    {
     "data": {
      "image/png": "[encoded data removed]",
      "text/plain": [
       "<Figure size 720x576 with 1 Axes>"
      ]
     },
     "metadata": {},
     "output_type": "display_data"
    }
   ],
   "source": [
    "#distribuciones\n",
    "variables = ['Page total likes', 'Type', 'Category', 'Post Month', 'Post Weekday','Post Hour', 'Paid', 'LPE']\n",
    "sns.set(rc={'figure.figsize':(10,8)})\n",
    "\n",
    "for i in range(0,8):\n",
    " \n",
    "    plt.hist(fb_df1[variables[i]], 10) #HISTOGRAMAS\n",
    "    plt.ylabel('frequencia')\n",
    "    plt.xlabel('valores')\n",
    "    plt.title(variables[i])\n",
    "    plt.show()"
   ]
  },
  {
   "cell_type": "code",
   "execution_count": null,
   "metadata": {
    "colab": {
     "base_uri": "https://localhost:8080/"
    },
    "id": "mqoNV2dKeUYY",
    "outputId": "74d7199c-2372-44d6-93d2-b73baafd6355"
   },
   "outputs": [
    {
     "data": {
      "text/plain": [
       "Page total likes    0\n",
       "Type                0\n",
       "Category            0\n",
       "Post Month          0\n",
       "Post Weekday        0\n",
       "Post Hour           0\n",
       "Paid                0\n",
       "LPE                 0\n",
       "dtype: int64"
      ]
     },
     "execution_count": 18,
     "metadata": {},
     "output_type": "execute_result"
    }
   ],
   "source": [
    "fb_df1.isna().sum() #solo paid tiene 1 dato faltante"
   ]
  },
  {
   "cell_type": "code",
   "execution_count": null,
   "metadata": {
    "colab": {
     "base_uri": "https://localhost:8080/"
    },
    "id": "wcTg-E8M_eZP",
    "outputId": "5de5994b-2a16-4037-9edf-f86f9d616bdd"
   },
   "outputs": [
    {
     "data": {
      "text/plain": [
       "56     240\n",
       "227    417\n",
       "280    375\n",
       "486    440\n",
       "220    279\n",
       "Name: LPE, dtype: int64"
      ]
     },
     "execution_count": 19,
     "metadata": {},
     "output_type": "execute_result"
    }
   ],
   "source": [
    "y_train.head()"
   ]
  },
  {
   "cell_type": "code",
   "execution_count": null,
   "metadata": {
    "id": "KhD_jdZPv0Bt"
   },
   "outputs": [],
   "source": [
    "#Pipeline\n",
    "\n",
    "# Transformaciones para las variables numéricas\n",
    "numeric_transformer = Pipeline(\n",
    "                        steps=[\n",
    "                            ('imputer', SimpleImputer(strategy='median')),\n",
    "                            ('scaler', StandardScaler())\n",
    "                        ]\n",
    "                      )\n",
    "\n",
    "\n",
    "# Transformaciones para las variables categóricas\n",
    "categorical_transformer = Pipeline(\n",
    "                            steps=[\n",
    "                                ('imputer', SimpleImputer(strategy='most_frequent')),\n",
    "                                ('onehot', OneHotEncoder())\n",
    "                            ]\n",
    "                          )\n",
    "\n",
    "\n",
    "\n",
    "num_columns = ['Page total likes']   \n",
    "cat_features = ['Type', 'Category', 'Post Month', 'Post Weekday','Post Hour', 'Paid']\n",
    "\n",
    "ColumnPreprocessor = ColumnTransformer(transformers = [('numeric', numeric_transformer, num_columns),\n",
    "                                                       ('categorical', categorical_transformer, cat_features)],\n",
    "                                                       remainder='passthrough',sparse_threshold=0)\n",
    "\n",
    "\n",
    "\n",
    "\n",
    "#fb_df1new = ColumnPreprocessor.fit_transform(X_train)  #falta incluir la variable de salida LPE\n",
    "\n",
    "\n",
    "\n",
    "\n"
   ]
  },
  {
   "cell_type": "code",
   "execution_count": null,
   "metadata": {
    "id": "7W7Y-QA5xkpK"
   },
   "outputs": [],
   "source": [
    "#fb_df1new['Paid'] = fb_df1new['Paid'].astype(int)"
   ]
  },
  {
   "cell_type": "markdown",
   "metadata": {
    "id": "Rv7KFq-mC7PS"
   },
   "source": [
    "#**Ejercicio-5.**"
   ]
  },
  {
   "cell_type": "code",
   "execution_count": null,
   "metadata": {
    "colab": {
     "base_uri": "https://localhost:8080/"
    },
    "id": "jaDj3kawC9B6",
    "outputId": "4ab5b86b-ef77-4f6a-b6f4-ddb96700521e"
   },
   "outputs": [
    {
     "name": "stdout",
     "output_type": "stream",
     "text": [
      "(299, 7)\n",
      "(100, 7)\n",
      "\n",
      "RMSE:  832.9225654285037\n",
      "\n",
      "MAE:  512.0\n",
      "\n",
      "MAPE:  122.5008580772579 %\n"
     ]
    }
   ],
   "source": [
    "XD = X_train\n",
    "YD = y_train\n",
    "\n",
    "X_dtrain, X_dval, y_dtrain, y_dval = train_test_split(XD, YD, train_size=0.75, random_state=1)   \n",
    "\n",
    "print(X_dtrain.shape)\n",
    "print(X_dval.shape)\n",
    "\n",
    "modeloDummy = DummyClassifier(strategy='stratified')   \n",
    "modeloDummy.fit(X_dtrain, y_dtrain)       \n",
    "yhat = modeloDummy.predict(X_dval)\n",
    "\n",
    "#hallando los errores RMSE / MAE / MAPE\n",
    "\n",
    "RMSE = mi_RMSE(y_dval, yhat)\n",
    "MAE = mi_MAE(y_dval, yhat)\n",
    "MAPE = mi_MAPE(y_dval, yhat)\n",
    "\n",
    "print('\\nRMSE: ', RMSE)  \n",
    "print('\\nMAE: ', MAE) \n",
    "print('\\nMAPE: ', MAPE,\"%\") "
   ]
  },
  {
   "cell_type": "code",
   "execution_count": null,
   "metadata": {
    "id": "RUGXhpGuMZl9"
   },
   "outputs": [],
   "source": [
    "#Definiendo Modelos a Utilizar\n",
    "\n",
    "def get_models():\n",
    "  modelos, nombres = list(), list()\n",
    "\n",
    "  # técnica y nombre: Regresión Lineal\n",
    "  nombres.append('Regresión Lineal')\n",
    "  modelos.append(LinearRegression())\n",
    "\n",
    "  # técnica y nombre: Bosque Aleatorio\n",
    "  nombres.append('Bosque Aleatorio')\n",
    "  modelos.append(RandomForestClassifier(n_estimators=5))\n",
    "\n",
    "  # técnica y nombre: Perceptron Multicapa\n",
    "  nombres.append('Perceptron Multicapa')\n",
    "  modelos.append(MLPRegressor()) \n",
    "\n",
    "  return modelos, nombres"
   ]
  },
  {
   "cell_type": "code",
   "execution_count": null,
   "metadata": {
    "id": "4tQxQROVC9Us"
   },
   "outputs": [],
   "source": []
  },
  {
   "cell_type": "markdown",
   "metadata": {
    "id": "W2S7LI0NC9wE"
   },
   "source": [
    "#**Ejercicio-6.**"
   ]
  },
  {
   "cell_type": "code",
   "execution_count": null,
   "metadata": {
    "colab": {
     "base_uri": "https://localhost:8080/",
     "height": 424
    },
    "id": "vbs43gCpDem7",
    "outputId": "4e4c36c1-0500-42df-b658-8a0e24ec7cc5"
   },
   "outputs": [
    {
     "data": {
      "text/html": [
       "\n",
       "  <div id=\"df-492cd510-afd0-4f7f-ba81-feb09e9b1fc2\">\n",
       "    <div class=\"colab-df-container\">\n",
       "      <div>\n",
       "<style scoped>\n",
       "    .dataframe tbody tr th:only-of-type {\n",
       "        vertical-align: middle;\n",
       "    }\n",
       "\n",
       "    .dataframe tbody tr th {\n",
       "        vertical-align: top;\n",
       "    }\n",
       "\n",
       "    .dataframe thead th {\n",
       "        text-align: right;\n",
       "    }\n",
       "</style>\n",
       "<table border=\"1\" class=\"dataframe\">\n",
       "  <thead>\n",
       "    <tr style=\"text-align: right;\">\n",
       "      <th></th>\n",
       "      <th>Page total likes</th>\n",
       "      <th>Type</th>\n",
       "      <th>Category</th>\n",
       "      <th>Post Month</th>\n",
       "      <th>Post Weekday</th>\n",
       "      <th>Post Hour</th>\n",
       "      <th>Paid</th>\n",
       "    </tr>\n",
       "  </thead>\n",
       "  <tbody>\n",
       "    <tr>\n",
       "      <th>56</th>\n",
       "      <td>138329</td>\n",
       "      <td>Photo</td>\n",
       "      <td>1</td>\n",
       "      <td>11</td>\n",
       "      <td>5</td>\n",
       "      <td>11</td>\n",
       "      <td>0.0</td>\n",
       "    </tr>\n",
       "    <tr>\n",
       "      <th>227</th>\n",
       "      <td>131728</td>\n",
       "      <td>Photo</td>\n",
       "      <td>1</td>\n",
       "      <td>7</td>\n",
       "      <td>4</td>\n",
       "      <td>10</td>\n",
       "      <td>1.0</td>\n",
       "    </tr>\n",
       "    <tr>\n",
       "      <th>280</th>\n",
       "      <td>126345</td>\n",
       "      <td>Photo</td>\n",
       "      <td>2</td>\n",
       "      <td>6</td>\n",
       "      <td>1</td>\n",
       "      <td>12</td>\n",
       "      <td>0.0</td>\n",
       "    </tr>\n",
       "    <tr>\n",
       "      <th>486</th>\n",
       "      <td>85979</td>\n",
       "      <td>Photo</td>\n",
       "      <td>3</td>\n",
       "      <td>1</td>\n",
       "      <td>1</td>\n",
       "      <td>12</td>\n",
       "      <td>0.0</td>\n",
       "    </tr>\n",
       "    <tr>\n",
       "      <th>220</th>\n",
       "      <td>131956</td>\n",
       "      <td>Photo</td>\n",
       "      <td>2</td>\n",
       "      <td>8</td>\n",
       "      <td>1</td>\n",
       "      <td>4</td>\n",
       "      <td>0.0</td>\n",
       "    </tr>\n",
       "    <tr>\n",
       "      <th>...</th>\n",
       "      <td>...</td>\n",
       "      <td>...</td>\n",
       "      <td>...</td>\n",
       "      <td>...</td>\n",
       "      <td>...</td>\n",
       "      <td>...</td>\n",
       "      <td>...</td>\n",
       "    </tr>\n",
       "    <tr>\n",
       "      <th>106</th>\n",
       "      <td>137020</td>\n",
       "      <td>Photo</td>\n",
       "      <td>3</td>\n",
       "      <td>10</td>\n",
       "      <td>1</td>\n",
       "      <td>11</td>\n",
       "      <td>0.0</td>\n",
       "    </tr>\n",
       "    <tr>\n",
       "      <th>270</th>\n",
       "      <td>128032</td>\n",
       "      <td>Photo</td>\n",
       "      <td>2</td>\n",
       "      <td>7</td>\n",
       "      <td>4</td>\n",
       "      <td>5</td>\n",
       "      <td>1.0</td>\n",
       "    </tr>\n",
       "    <tr>\n",
       "      <th>348</th>\n",
       "      <td>117764</td>\n",
       "      <td>Photo</td>\n",
       "      <td>3</td>\n",
       "      <td>5</td>\n",
       "      <td>6</td>\n",
       "      <td>8</td>\n",
       "      <td>1.0</td>\n",
       "    </tr>\n",
       "    <tr>\n",
       "      <th>435</th>\n",
       "      <td>100732</td>\n",
       "      <td>Photo</td>\n",
       "      <td>1</td>\n",
       "      <td>3</td>\n",
       "      <td>6</td>\n",
       "      <td>15</td>\n",
       "      <td>0.0</td>\n",
       "    </tr>\n",
       "    <tr>\n",
       "      <th>102</th>\n",
       "      <td>137020</td>\n",
       "      <td>Photo</td>\n",
       "      <td>3</td>\n",
       "      <td>10</td>\n",
       "      <td>3</td>\n",
       "      <td>10</td>\n",
       "      <td>0.0</td>\n",
       "    </tr>\n",
       "  </tbody>\n",
       "</table>\n",
       "<p>399 rows × 7 columns</p>\n",
       "</div>\n",
       "      <button class=\"colab-df-convert\" onclick=\"convertToInteractive('df-492cd510-afd0-4f7f-ba81-feb09e9b1fc2')\"\n",
       "              title=\"Convert this dataframe to an interactive table.\"\n",
       "              style=\"display:none;\">\n",
       "        \n",
       "  <svg xmlns=\"http://www.w3.org/2000/svg\" height=\"24px\"viewBox=\"0 0 24 24\"\n",
       "       width=\"24px\">\n",
       "    <path d=\"M0 0h24v24H0V0z\" fill=\"none\"/>\n",
       "    <path d=\"M18.56 5.44l.94 2.06.94-2.06 2.06-.94-2.06-.94-.94-2.06-.94 2.06-2.06.94zm-11 1L8.5 8.5l.94-2.06 2.06-.94-2.06-.94L8.5 2.5l-.94 2.06-2.06.94zm10 10l.94 2.06.94-2.06 2.06-.94-2.06-.94-.94-2.06-.94 2.06-2.06.94z\"/><path d=\"M17.41 7.96l-1.37-1.37c-.4-.4-.92-.59-1.43-.59-.52 0-1.04.2-1.43.59L10.3 9.45l-7.72 7.72c-.78.78-.78 2.05 0 2.83L4 21.41c.39.39.9.59 1.41.59.51 0 1.02-.2 1.41-.59l7.78-7.78 2.81-2.81c.8-.78.8-2.07 0-2.86zM5.41 20L4 18.59l7.72-7.72 1.47 1.35L5.41 20z\"/>\n",
       "  </svg>\n",
       "      </button>\n",
       "      \n",
       "  <style>\n",
       "    .colab-df-container {\n",
       "      display:flex;\n",
       "      flex-wrap:wrap;\n",
       "      gap: 12px;\n",
       "    }\n",
       "\n",
       "    .colab-df-convert {\n",
       "      background-color: #E8F0FE;\n",
       "      border: none;\n",
       "      border-radius: 50%;\n",
       "      cursor: pointer;\n",
       "      display: none;\n",
       "      fill: #1967D2;\n",
       "      height: 32px;\n",
       "      padding: 0 0 0 0;\n",
       "      width: 32px;\n",
       "    }\n",
       "\n",
       "    .colab-df-convert:hover {\n",
       "      background-color: #E2EBFA;\n",
       "      box-shadow: 0px 1px 2px rgba(60, 64, 67, 0.3), 0px 1px 3px 1px rgba(60, 64, 67, 0.15);\n",
       "      fill: #174EA6;\n",
       "    }\n",
       "\n",
       "    [theme=dark] .colab-df-convert {\n",
       "      background-color: #3B4455;\n",
       "      fill: #D2E3FC;\n",
       "    }\n",
       "\n",
       "    [theme=dark] .colab-df-convert:hover {\n",
       "      background-color: #434B5C;\n",
       "      box-shadow: 0px 1px 3px 1px rgba(0, 0, 0, 0.15);\n",
       "      filter: drop-shadow(0px 1px 2px rgba(0, 0, 0, 0.3));\n",
       "      fill: #FFFFFF;\n",
       "    }\n",
       "  </style>\n",
       "\n",
       "      <script>\n",
       "        const buttonEl =\n",
       "          document.querySelector('#df-492cd510-afd0-4f7f-ba81-feb09e9b1fc2 button.colab-df-convert');\n",
       "        buttonEl.style.display =\n",
       "          google.colab.kernel.accessAllowed ? 'block' : 'none';\n",
       "\n",
       "        async function convertToInteractive(key) {\n",
       "          const element = document.querySelector('#df-492cd510-afd0-4f7f-ba81-feb09e9b1fc2');\n",
       "          const dataTable =\n",
       "            await google.colab.kernel.invokeFunction('convertToInteractive',\n",
       "                                                     [key], {});\n",
       "          if (!dataTable) return;\n",
       "\n",
       "          const docLinkHtml = 'Like what you see? Visit the ' +\n",
       "            '<a target=\"_blank\" href=https://colab.research.google.com/notebooks/data_table.ipynb>data table notebook</a>'\n",
       "            + ' to learn more about interactive tables.';\n",
       "          element.innerHTML = '';\n",
       "          dataTable['output_type'] = 'display_data';\n",
       "          await google.colab.output.renderOutput(dataTable, element);\n",
       "          const docLink = document.createElement('div');\n",
       "          docLink.innerHTML = docLinkHtml;\n",
       "          element.appendChild(docLink);\n",
       "        }\n",
       "      </script>\n",
       "    </div>\n",
       "  </div>\n",
       "  "
      ],
      "text/plain": [
       "     Page total likes   Type  Category  Post Month  Post Weekday  Post Hour  \\\n",
       "56             138329  Photo         1          11             5         11   \n",
       "227            131728  Photo         1           7             4         10   \n",
       "280            126345  Photo         2           6             1         12   \n",
       "486             85979  Photo         3           1             1         12   \n",
       "220            131956  Photo         2           8             1          4   \n",
       "..                ...    ...       ...         ...           ...        ...   \n",
       "106            137020  Photo         3          10             1         11   \n",
       "270            128032  Photo         2           7             4          5   \n",
       "348            117764  Photo         3           5             6          8   \n",
       "435            100732  Photo         1           3             6         15   \n",
       "102            137020  Photo         3          10             3         10   \n",
       "\n",
       "     Paid  \n",
       "56    0.0  \n",
       "227   1.0  \n",
       "280   0.0  \n",
       "486   0.0  \n",
       "220   0.0  \n",
       "..    ...  \n",
       "106   0.0  \n",
       "270   1.0  \n",
       "348   1.0  \n",
       "435   0.0  \n",
       "102   0.0  \n",
       "\n",
       "[399 rows x 7 columns]"
      ]
     },
     "execution_count": 24,
     "metadata": {},
     "output_type": "execute_result"
    }
   ],
   "source": [
    "X_train"
   ]
  },
  {
   "cell_type": "code",
   "execution_count": null,
   "metadata": {
    "id": "Ss5O0gxbXHQY"
   },
   "outputs": [],
   "source": [
    "#Estandarizando Variables numericas\n",
    "\n",
    "media_train = X_train[num_columns].mean()\n",
    "desv_train = X_train[num_columns].std()\n",
    "\n",
    "X_train[num_columns] = (X_train[num_columns] - media_train) / desv_train\n",
    "X_test[num_columns] =  (X_test[num_columns] - media_train) / desv_train #Usar media y desviacion estandar de datos de entrenamiento"
   ]
  },
  {
   "cell_type": "code",
   "execution_count": null,
   "metadata": {
    "colab": {
     "base_uri": "https://localhost:8080/",
     "height": 424
    },
    "id": "hclrRN4dYBQI",
    "outputId": "10a33a12-a268-4121-b619-eb27e4dd20e1"
   },
   "outputs": [
    {
     "data": {
      "text/html": [
       "\n",
       "  <div id=\"df-5c4239ea-e864-4521-b8c7-767402dcf59f\">\n",
       "    <div class=\"colab-df-container\">\n",
       "      <div>\n",
       "<style scoped>\n",
       "    .dataframe tbody tr th:only-of-type {\n",
       "        vertical-align: middle;\n",
       "    }\n",
       "\n",
       "    .dataframe tbody tr th {\n",
       "        vertical-align: top;\n",
       "    }\n",
       "\n",
       "    .dataframe thead th {\n",
       "        text-align: right;\n",
       "    }\n",
       "</style>\n",
       "<table border=\"1\" class=\"dataframe\">\n",
       "  <thead>\n",
       "    <tr style=\"text-align: right;\">\n",
       "      <th></th>\n",
       "      <th>Page total likes</th>\n",
       "      <th>Type</th>\n",
       "      <th>Category</th>\n",
       "      <th>Post Month</th>\n",
       "      <th>Post Weekday</th>\n",
       "      <th>Post Hour</th>\n",
       "      <th>Paid</th>\n",
       "    </tr>\n",
       "  </thead>\n",
       "  <tbody>\n",
       "    <tr>\n",
       "      <th>56</th>\n",
       "      <td>0.940588</td>\n",
       "      <td>Photo</td>\n",
       "      <td>1</td>\n",
       "      <td>11</td>\n",
       "      <td>5</td>\n",
       "      <td>11</td>\n",
       "      <td>0.0</td>\n",
       "    </tr>\n",
       "    <tr>\n",
       "      <th>227</th>\n",
       "      <td>0.521837</td>\n",
       "      <td>Photo</td>\n",
       "      <td>1</td>\n",
       "      <td>7</td>\n",
       "      <td>4</td>\n",
       "      <td>10</td>\n",
       "      <td>1.0</td>\n",
       "    </tr>\n",
       "    <tr>\n",
       "      <th>280</th>\n",
       "      <td>0.180353</td>\n",
       "      <td>Photo</td>\n",
       "      <td>2</td>\n",
       "      <td>6</td>\n",
       "      <td>1</td>\n",
       "      <td>12</td>\n",
       "      <td>0.0</td>\n",
       "    </tr>\n",
       "    <tr>\n",
       "      <th>486</th>\n",
       "      <td>-2.380365</td>\n",
       "      <td>Photo</td>\n",
       "      <td>3</td>\n",
       "      <td>1</td>\n",
       "      <td>1</td>\n",
       "      <td>12</td>\n",
       "      <td>0.0</td>\n",
       "    </tr>\n",
       "    <tr>\n",
       "      <th>220</th>\n",
       "      <td>0.536301</td>\n",
       "      <td>Photo</td>\n",
       "      <td>2</td>\n",
       "      <td>8</td>\n",
       "      <td>1</td>\n",
       "      <td>4</td>\n",
       "      <td>0.0</td>\n",
       "    </tr>\n",
       "    <tr>\n",
       "      <th>...</th>\n",
       "      <td>...</td>\n",
       "      <td>...</td>\n",
       "      <td>...</td>\n",
       "      <td>...</td>\n",
       "      <td>...</td>\n",
       "      <td>...</td>\n",
       "      <td>...</td>\n",
       "    </tr>\n",
       "    <tr>\n",
       "      <th>106</th>\n",
       "      <td>0.857548</td>\n",
       "      <td>Photo</td>\n",
       "      <td>3</td>\n",
       "      <td>10</td>\n",
       "      <td>1</td>\n",
       "      <td>11</td>\n",
       "      <td>0.0</td>\n",
       "    </tr>\n",
       "    <tr>\n",
       "      <th>270</th>\n",
       "      <td>0.287372</td>\n",
       "      <td>Photo</td>\n",
       "      <td>2</td>\n",
       "      <td>7</td>\n",
       "      <td>4</td>\n",
       "      <td>5</td>\n",
       "      <td>1.0</td>\n",
       "    </tr>\n",
       "    <tr>\n",
       "      <th>348</th>\n",
       "      <td>-0.364004</td>\n",
       "      <td>Photo</td>\n",
       "      <td>3</td>\n",
       "      <td>5</td>\n",
       "      <td>6</td>\n",
       "      <td>8</td>\n",
       "      <td>1.0</td>\n",
       "    </tr>\n",
       "    <tr>\n",
       "      <th>435</th>\n",
       "      <td>-1.444472</td>\n",
       "      <td>Photo</td>\n",
       "      <td>1</td>\n",
       "      <td>3</td>\n",
       "      <td>6</td>\n",
       "      <td>15</td>\n",
       "      <td>0.0</td>\n",
       "    </tr>\n",
       "    <tr>\n",
       "      <th>102</th>\n",
       "      <td>0.857548</td>\n",
       "      <td>Photo</td>\n",
       "      <td>3</td>\n",
       "      <td>10</td>\n",
       "      <td>3</td>\n",
       "      <td>10</td>\n",
       "      <td>0.0</td>\n",
       "    </tr>\n",
       "  </tbody>\n",
       "</table>\n",
       "<p>399 rows × 7 columns</p>\n",
       "</div>\n",
       "      <button class=\"colab-df-convert\" onclick=\"convertToInteractive('df-5c4239ea-e864-4521-b8c7-767402dcf59f')\"\n",
       "              title=\"Convert this dataframe to an interactive table.\"\n",
       "              style=\"display:none;\">\n",
       "        \n",
       "  <svg xmlns=\"http://www.w3.org/2000/svg\" height=\"24px\"viewBox=\"0 0 24 24\"\n",
       "       width=\"24px\">\n",
       "    <path d=\"M0 0h24v24H0V0z\" fill=\"none\"/>\n",
       "    <path d=\"M18.56 5.44l.94 2.06.94-2.06 2.06-.94-2.06-.94-.94-2.06-.94 2.06-2.06.94zm-11 1L8.5 8.5l.94-2.06 2.06-.94-2.06-.94L8.5 2.5l-.94 2.06-2.06.94zm10 10l.94 2.06.94-2.06 2.06-.94-2.06-.94-.94-2.06-.94 2.06-2.06.94z\"/><path d=\"M17.41 7.96l-1.37-1.37c-.4-.4-.92-.59-1.43-.59-.52 0-1.04.2-1.43.59L10.3 9.45l-7.72 7.72c-.78.78-.78 2.05 0 2.83L4 21.41c.39.39.9.59 1.41.59.51 0 1.02-.2 1.41-.59l7.78-7.78 2.81-2.81c.8-.78.8-2.07 0-2.86zM5.41 20L4 18.59l7.72-7.72 1.47 1.35L5.41 20z\"/>\n",
       "  </svg>\n",
       "      </button>\n",
       "      \n",
       "  <style>\n",
       "    .colab-df-container {\n",
       "      display:flex;\n",
       "      flex-wrap:wrap;\n",
       "      gap: 12px;\n",
       "    }\n",
       "\n",
       "    .colab-df-convert {\n",
       "      background-color: #E8F0FE;\n",
       "      border: none;\n",
       "      border-radius: 50%;\n",
       "      cursor: pointer;\n",
       "      display: none;\n",
       "      fill: #1967D2;\n",
       "      height: 32px;\n",
       "      padding: 0 0 0 0;\n",
       "      width: 32px;\n",
       "    }\n",
       "\n",
       "    .colab-df-convert:hover {\n",
       "      background-color: #E2EBFA;\n",
       "      box-shadow: 0px 1px 2px rgba(60, 64, 67, 0.3), 0px 1px 3px 1px rgba(60, 64, 67, 0.15);\n",
       "      fill: #174EA6;\n",
       "    }\n",
       "\n",
       "    [theme=dark] .colab-df-convert {\n",
       "      background-color: #3B4455;\n",
       "      fill: #D2E3FC;\n",
       "    }\n",
       "\n",
       "    [theme=dark] .colab-df-convert:hover {\n",
       "      background-color: #434B5C;\n",
       "      box-shadow: 0px 1px 3px 1px rgba(0, 0, 0, 0.15);\n",
       "      filter: drop-shadow(0px 1px 2px rgba(0, 0, 0, 0.3));\n",
       "      fill: #FFFFFF;\n",
       "    }\n",
       "  </style>\n",
       "\n",
       "      <script>\n",
       "        const buttonEl =\n",
       "          document.querySelector('#df-5c4239ea-e864-4521-b8c7-767402dcf59f button.colab-df-convert');\n",
       "        buttonEl.style.display =\n",
       "          google.colab.kernel.accessAllowed ? 'block' : 'none';\n",
       "\n",
       "        async function convertToInteractive(key) {\n",
       "          const element = document.querySelector('#df-5c4239ea-e864-4521-b8c7-767402dcf59f');\n",
       "          const dataTable =\n",
       "            await google.colab.kernel.invokeFunction('convertToInteractive',\n",
       "                                                     [key], {});\n",
       "          if (!dataTable) return;\n",
       "\n",
       "          const docLinkHtml = 'Like what you see? Visit the ' +\n",
       "            '<a target=\"_blank\" href=https://colab.research.google.com/notebooks/data_table.ipynb>data table notebook</a>'\n",
       "            + ' to learn more about interactive tables.';\n",
       "          element.innerHTML = '';\n",
       "          dataTable['output_type'] = 'display_data';\n",
       "          await google.colab.output.renderOutput(dataTable, element);\n",
       "          const docLink = document.createElement('div');\n",
       "          docLink.innerHTML = docLinkHtml;\n",
       "          element.appendChild(docLink);\n",
       "        }\n",
       "      </script>\n",
       "    </div>\n",
       "  </div>\n",
       "  "
      ],
      "text/plain": [
       "     Page total likes   Type  Category  Post Month  Post Weekday  Post Hour  \\\n",
       "56           0.940588  Photo         1          11             5         11   \n",
       "227          0.521837  Photo         1           7             4         10   \n",
       "280          0.180353  Photo         2           6             1         12   \n",
       "486         -2.380365  Photo         3           1             1         12   \n",
       "220          0.536301  Photo         2           8             1          4   \n",
       "..                ...    ...       ...         ...           ...        ...   \n",
       "106          0.857548  Photo         3          10             1         11   \n",
       "270          0.287372  Photo         2           7             4          5   \n",
       "348         -0.364004  Photo         3           5             6          8   \n",
       "435         -1.444472  Photo         1           3             6         15   \n",
       "102          0.857548  Photo         3          10             3         10   \n",
       "\n",
       "     Paid  \n",
       "56    0.0  \n",
       "227   1.0  \n",
       "280   0.0  \n",
       "486   0.0  \n",
       "220   0.0  \n",
       "..    ...  \n",
       "106   0.0  \n",
       "270   1.0  \n",
       "348   1.0  \n",
       "435   0.0  \n",
       "102   0.0  \n",
       "\n",
       "[399 rows x 7 columns]"
      ]
     },
     "execution_count": 26,
     "metadata": {},
     "output_type": "execute_result"
    }
   ],
   "source": [
    "X_train"
   ]
  },
  {
   "cell_type": "code",
   "execution_count": null,
   "metadata": {
    "colab": {
     "base_uri": "https://localhost:8080/"
    },
    "id": "WFz0_oBDHUFS",
    "outputId": "fc6fb46a-107e-4d4a-fa07-4b7781864c8b"
   },
   "outputs": [
    {
     "data": {
      "text/plain": [
       "Index(['Page total likes', 'Type', 'Category', 'Post Month', 'Post Weekday',\n",
       "       'Post Hour', 'Paid'],\n",
       "      dtype='object')"
      ]
     },
     "execution_count": 27,
     "metadata": {},
     "output_type": "execute_result"
    }
   ],
   "source": [
    "#Conversion de Variables Categoricas con Get_Dummies\n",
    "\n",
    "X_test_new = pd.get_dummies(X_test,columns=cat_features,drop_first=True)\n",
    "\n",
    "X_train_new = pd.get_dummies(X_train,columns=cat_features,drop_first=True)\n",
    "X_train.columns\n"
   ]
  },
  {
   "cell_type": "code",
   "execution_count": null,
   "metadata": {
    "colab": {
     "base_uri": "https://localhost:8080/",
     "height": 565
    },
    "id": "_TLogEVKOxfS",
    "outputId": "fe2a9d68-0bbf-4006-c272-e2e6f87def73"
   },
   "outputs": [
    {
     "data": {
      "text/html": [
       "\n",
       "  <div id=\"df-9099bb5f-9ba5-4e83-a346-f28f39477c71\">\n",
       "    <div class=\"colab-df-container\">\n",
       "      <div>\n",
       "<style scoped>\n",
       "    .dataframe tbody tr th:only-of-type {\n",
       "        vertical-align: middle;\n",
       "    }\n",
       "\n",
       "    .dataframe tbody tr th {\n",
       "        vertical-align: top;\n",
       "    }\n",
       "\n",
       "    .dataframe thead th {\n",
       "        text-align: right;\n",
       "    }\n",
       "</style>\n",
       "<table border=\"1\" class=\"dataframe\">\n",
       "  <thead>\n",
       "    <tr style=\"text-align: right;\">\n",
       "      <th></th>\n",
       "    </tr>\n",
       "    <tr>\n",
       "      <th>Post Hour</th>\n",
       "    </tr>\n",
       "  </thead>\n",
       "  <tbody>\n",
       "    <tr>\n",
       "      <th>1</th>\n",
       "    </tr>\n",
       "    <tr>\n",
       "      <th>2</th>\n",
       "    </tr>\n",
       "    <tr>\n",
       "      <th>3</th>\n",
       "    </tr>\n",
       "    <tr>\n",
       "      <th>4</th>\n",
       "    </tr>\n",
       "    <tr>\n",
       "      <th>5</th>\n",
       "    </tr>\n",
       "    <tr>\n",
       "      <th>6</th>\n",
       "    </tr>\n",
       "    <tr>\n",
       "      <th>7</th>\n",
       "    </tr>\n",
       "    <tr>\n",
       "      <th>8</th>\n",
       "    </tr>\n",
       "    <tr>\n",
       "      <th>9</th>\n",
       "    </tr>\n",
       "    <tr>\n",
       "      <th>10</th>\n",
       "    </tr>\n",
       "    <tr>\n",
       "      <th>11</th>\n",
       "    </tr>\n",
       "    <tr>\n",
       "      <th>12</th>\n",
       "    </tr>\n",
       "    <tr>\n",
       "      <th>13</th>\n",
       "    </tr>\n",
       "    <tr>\n",
       "      <th>14</th>\n",
       "    </tr>\n",
       "    <tr>\n",
       "      <th>17</th>\n",
       "    </tr>\n",
       "    <tr>\n",
       "      <th>22</th>\n",
       "    </tr>\n",
       "  </tbody>\n",
       "</table>\n",
       "</div>\n",
       "      <button class=\"colab-df-convert\" onclick=\"convertToInteractive('df-9099bb5f-9ba5-4e83-a346-f28f39477c71')\"\n",
       "              title=\"Convert this dataframe to an interactive table.\"\n",
       "              style=\"display:none;\">\n",
       "        \n",
       "  <svg xmlns=\"http://www.w3.org/2000/svg\" height=\"24px\"viewBox=\"0 0 24 24\"\n",
       "       width=\"24px\">\n",
       "    <path d=\"M0 0h24v24H0V0z\" fill=\"none\"/>\n",
       "    <path d=\"M18.56 5.44l.94 2.06.94-2.06 2.06-.94-2.06-.94-.94-2.06-.94 2.06-2.06.94zm-11 1L8.5 8.5l.94-2.06 2.06-.94-2.06-.94L8.5 2.5l-.94 2.06-2.06.94zm10 10l.94 2.06.94-2.06 2.06-.94-2.06-.94-.94-2.06-.94 2.06-2.06.94z\"/><path d=\"M17.41 7.96l-1.37-1.37c-.4-.4-.92-.59-1.43-.59-.52 0-1.04.2-1.43.59L10.3 9.45l-7.72 7.72c-.78.78-.78 2.05 0 2.83L4 21.41c.39.39.9.59 1.41.59.51 0 1.02-.2 1.41-.59l7.78-7.78 2.81-2.81c.8-.78.8-2.07 0-2.86zM5.41 20L4 18.59l7.72-7.72 1.47 1.35L5.41 20z\"/>\n",
       "  </svg>\n",
       "      </button>\n",
       "      \n",
       "  <style>\n",
       "    .colab-df-container {\n",
       "      display:flex;\n",
       "      flex-wrap:wrap;\n",
       "      gap: 12px;\n",
       "    }\n",
       "\n",
       "    .colab-df-convert {\n",
       "      background-color: #E8F0FE;\n",
       "      border: none;\n",
       "      border-radius: 50%;\n",
       "      cursor: pointer;\n",
       "      display: none;\n",
       "      fill: #1967D2;\n",
       "      height: 32px;\n",
       "      padding: 0 0 0 0;\n",
       "      width: 32px;\n",
       "    }\n",
       "\n",
       "    .colab-df-convert:hover {\n",
       "      background-color: #E2EBFA;\n",
       "      box-shadow: 0px 1px 2px rgba(60, 64, 67, 0.3), 0px 1px 3px 1px rgba(60, 64, 67, 0.15);\n",
       "      fill: #174EA6;\n",
       "    }\n",
       "\n",
       "    [theme=dark] .colab-df-convert {\n",
       "      background-color: #3B4455;\n",
       "      fill: #D2E3FC;\n",
       "    }\n",
       "\n",
       "    [theme=dark] .colab-df-convert:hover {\n",
       "      background-color: #434B5C;\n",
       "      box-shadow: 0px 1px 3px 1px rgba(0, 0, 0, 0.15);\n",
       "      filter: drop-shadow(0px 1px 2px rgba(0, 0, 0, 0.3));\n",
       "      fill: #FFFFFF;\n",
       "    }\n",
       "  </style>\n",
       "\n",
       "      <script>\n",
       "        const buttonEl =\n",
       "          document.querySelector('#df-9099bb5f-9ba5-4e83-a346-f28f39477c71 button.colab-df-convert');\n",
       "        buttonEl.style.display =\n",
       "          google.colab.kernel.accessAllowed ? 'block' : 'none';\n",
       "\n",
       "        async function convertToInteractive(key) {\n",
       "          const element = document.querySelector('#df-9099bb5f-9ba5-4e83-a346-f28f39477c71');\n",
       "          const dataTable =\n",
       "            await google.colab.kernel.invokeFunction('convertToInteractive',\n",
       "                                                     [key], {});\n",
       "          if (!dataTable) return;\n",
       "\n",
       "          const docLinkHtml = 'Like what you see? Visit the ' +\n",
       "            '<a target=\"_blank\" href=https://colab.research.google.com/notebooks/data_table.ipynb>data table notebook</a>'\n",
       "            + ' to learn more about interactive tables.';\n",
       "          element.innerHTML = '';\n",
       "          dataTable['output_type'] = 'display_data';\n",
       "          await google.colab.output.renderOutput(dataTable, element);\n",
       "          const docLink = document.createElement('div');\n",
       "          docLink.innerHTML = docLinkHtml;\n",
       "          element.appendChild(docLink);\n",
       "        }\n",
       "      </script>\n",
       "    </div>\n",
       "  </div>\n",
       "  "
      ],
      "text/plain": [
       "Empty DataFrame\n",
       "Columns: []\n",
       "Index: [1, 2, 3, 4, 5, 6, 7, 8, 9, 10, 11, 12, 13, 14, 17, 22]"
      ]
     },
     "execution_count": 28,
     "metadata": {},
     "output_type": "execute_result"
    }
   ],
   "source": [
    "\n",
    "X_test[['Post Hour']].groupby('Post Hour').count()\n",
    "\n"
   ]
  },
  {
   "cell_type": "code",
   "execution_count": null,
   "metadata": {
    "colab": {
     "base_uri": "https://localhost:8080/"
    },
    "id": "pb2ZAgIyVGQ4",
    "outputId": "3e769f29-8626-4501-8c3a-50e5a3ccc33c"
   },
   "outputs": [
    {
     "data": {
      "text/plain": [
       "56     240\n",
       "227    417\n",
       "280    375\n",
       "486    440\n",
       "220    279\n",
       "      ... \n",
       "106    328\n",
       "270    975\n",
       "348    403\n",
       "435    472\n",
       "102    205\n",
       "Name: LPE, Length: 399, dtype: int64"
      ]
     },
     "execution_count": 29,
     "metadata": {},
     "output_type": "execute_result"
    }
   ],
   "source": [
    "y_train"
   ]
  },
  {
   "cell_type": "code",
   "execution_count": null,
   "metadata": {
    "colab": {
     "base_uri": "https://localhost:8080/"
    },
    "id": "OUJGhhaV0IOn",
    "outputId": "9995ccbd-f26e-479c-f8cb-ee1f822fdcc7"
   },
   "outputs": [
    {
     "name": "stdout",
     "output_type": "stream",
     "text": [
      "\u001b[1m Regresión Lineal: \u001b[0m \n",
      " RMSE: 526.011 \n",
      " MAE: 30.082 \n",
      " MAPE: 110.81 %\n",
      "\u001b[1m Bosque Aleatorio: \u001b[0m \n",
      " RMSE: 764.536 \n",
      " MAE: 56.589 \n",
      " MAPE: 88.06 %\n",
      "\u001b[1m Perceptron Multicapa: \u001b[0m \n",
      " RMSE: 795.213 \n",
      " MAE: 57.388 \n",
      " MAPE: 72.11 %\n"
     ]
    }
   ],
   "source": [
    "modelos, nombres = get_models()  # cargamos los modelos a comparar\n",
    "resultados = list() \n",
    "\n",
    "for i in range(len(modelos)):\n",
    "    mi_Pipeline = Pipeline(steps = [('preprocessor', ColumnPreprocessor),('modelo', modelos[i])])\n",
    "\n",
    "    cv = RepeatedKFold(n_splits=5, n_repeats=3, random_state=7)\n",
    "    misscores = {'rmse':make_scorer(mi_RMSE), 'mae':make_scorer(mi_MAE), 'mape':make_scorer(mi_MAPE) }\n",
    "\n",
    "    est = modelos[i]\n",
    "    if (i == -1):\n",
    "      est = mi_Pipeline\n",
    "\n",
    "    scores = cross_validate(est,\n",
    "                              X_train_new,\n",
    "                              np.ravel(y_train),\n",
    "                              cv =cv,\n",
    "                              scoring=misscores,\n",
    "                              n_jobs=5\n",
    "                    \n",
    "                              )\n",
    "    \n",
    "\n",
    "    resultados.append(scores)\n",
    "\n",
    "    mape =np.mean(scores['test_mape']).round(2)\n",
    "    print('\\033[1m %s: \\033[0m \\n RMSE: %.3f \\n MAE: %.3f \\n MAPE: %.2f' % (nombres[i],\n",
    "                                                                          np.mean(scores['test_rmse']),\n",
    "                                                                          np.std(scores['test_mae']),\n",
    "                                                                          mape\n",
    "                                                                          ),'%')\n",
    "\n"
   ]
  },
  {
   "cell_type": "markdown",
   "metadata": {
    "id": "Kp98x0rjOuvs"
   },
   "source": [
    "**SCORES A BATIR MODELO DUMMY**\n",
    "\n",
    "RMSE:  832.9225654285037\n",
    "\n",
    "MAE:  512.0\n",
    "\n",
    "MAPE:  122.5008580772579 %"
   ]
  },
  {
   "cell_type": "markdown",
   "metadata": {
    "id": "iCNGx4TQ8CFI"
   },
   "source": [
    "#**Ejercicio-7.**"
   ]
  },
  {
   "cell_type": "code",
   "execution_count": null,
   "metadata": {
    "colab": {
     "base_uri": "https://localhost:8080/",
     "height": 268
    },
    "id": "8sziBWVjn1P1",
    "outputId": "cfa5c976-6e54-4609-893a-afc8ea5c6a3c"
   },
   "outputs": [
    {
     "data": {
      "image/png": "[encoded data removed]",
      "text/plain": [
       "<Figure size 576x288 with 1 Axes>"
      ]
     },
     "metadata": {},
     "output_type": "display_data"
    }
   ],
   "source": [
    "#BOXPLOT DE CADA MODELO - ENTRENAMIENTO\n",
    "\n",
    "sns.set(rc={'figure.figsize':(8,4)})\n",
    "\n",
    "\n",
    "bpmape = list()\n",
    "\n",
    "for i in range (len(resultados)):\n",
    "   rr = resultados[i]['test_mape']\n",
    "   bpmape.append(resultados[i]['test_mape'])\n",
    "\n",
    "plt.boxplot(bpmape, labels=nombres, showmeans=True)\n",
    "plt.show()"
   ]
  },
  {
   "cell_type": "markdown",
   "metadata": {
    "id": "tzQn5NR78GFg"
   },
   "source": [
    "#**Ejercicio-8.**"
   ]
  },
  {
   "cell_type": "code",
   "execution_count": null,
   "metadata": {
    "id": "EBKcp0278IQV"
   },
   "outputs": [],
   "source": [
    "def make_grid(dicc_grid,md,mi_sco,title):\n",
    "\n",
    "  pipeline = Pipeline(steps=[('ct',ColumnPreprocessor),('m',md)])\n",
    "  cv = RepeatedKFold(n_splits=2)\n",
    "\n",
    "  grid= GridSearchCV(md, \n",
    "                      param_grid=dicc_grid, \n",
    "                      cv=cv, \n",
    "                      scoring=make_scorer(mi_sco,greater_is_better = False),\n",
    "                              n_jobs=5)\n",
    "  \n",
    "  #Xx = ColumnPreprocessor.fit_transform(X_train)\n",
    "  grid.fit(X_test_new, np.ravel(y_test))\n",
    "\n",
    "  score_real =   np.abs((grid.best_score_)).round(2) #Cuando se quiere de minimazar(greater_is_better = False), retornara negativo, se debe interpretar en valores absolutos\n",
    "  print('\\033[1m %s: \\033[0m ' %(title))\n",
    "  print(' Mejor score obtenido con la mejor combinación:',score_real,\"%\")\n",
    "  print(' Mejor combinación de valores encontrados de los hiperparámetros:', grid.best_params_)\n",
    "  print(' Métrica utilizada:', 'MAPE')\n",
    "  print('\\n\\n')"
   ]
  },
  {
   "cell_type": "code",
   "execution_count": null,
   "metadata": {
    "id": "vp8S0PFs8IMR"
   },
   "outputs": [],
   "source": [
    "dicc_grid_reg = {'n_jobs':[1,3,5],\n",
    "                 'fit_intercept':[True, False]\n",
    "               \n",
    "              }\n",
    "\n",
    "dicc_grid_randomforest = {\n",
    "              'ccp_alpha':[0,0.01,0.001,0.0001],\n",
    "              'criterion':['gini','entropy','log_loss'],\n",
    "              'max_depth':[4,6,10,15,20],\n",
    "              'min_samples_split':[2,3,4,5,6],\n",
    "              'class_weight':[{0:0.5,1:0.5},{0:0.2,1:0.8},'balanced']\n",
    "              }\n",
    "\n",
    "\n",
    "\n",
    "dicc_grid_mlp = {\n",
    "              'alpha':[0.0001,0.00001,0.000001],\n",
    "              'learning_rate_init':[0.01,0.001],\n",
    "              'hidden_layer_sizes':[1,2,3],\n",
    "              'max_iter':[1000]\n",
    "              }"
   ]
  },
  {
   "cell_type": "markdown",
   "metadata": {
    "id": "mASNrZWs8JTh"
   },
   "source": [
    "#**Ejercicio-9.**"
   ]
  },
  {
   "cell_type": "code",
   "execution_count": null,
   "metadata": {
    "colab": {
     "base_uri": "https://localhost:8080/"
    },
    "id": "X6HJP9hb8LCp",
    "outputId": "79e0fcec-3f49-4878-db8e-fc81f61fc83d"
   },
   "outputs": [
    {
     "name": "stdout",
     "output_type": "stream",
     "text": [
      "\u001b[1m Perceptron MultiCapa: \u001b[0m \n",
      " Mejor score obtenido con la mejor combinación: 90.93 %\n",
      " Mejor combinación de valores encontrados de los hiperparámetros: {'alpha': 1e-06, 'hidden_layer_sizes': 3, 'learning_rate_init': 0.001, 'max_iter': 1000}\n",
      " Métrica utilizada: MAPE\n",
      "\n",
      "\n",
      "\n"
     ]
    },
    {
     "name": "stderr",
     "output_type": "stream",
     "text": [
      "/usr/local/lib/python3.7/dist-packages/sklearn/neural_network/_multilayer_perceptron.py:696: ConvergenceWarning: Stochastic Optimizer: Maximum iterations (1000) reached and the optimization hasn't converged yet.\n",
      "  ConvergenceWarning,\n"
     ]
    }
   ],
   "source": [
    "make_grid(dicc_grid_mlp, modelos[2], mi_MAPE,'Perceptron MultiCapa')"
   ]
  },
  {
   "cell_type": "code",
   "execution_count": null,
   "metadata": {
    "colab": {
     "base_uri": "https://localhost:8080/",
     "height": 1000
    },
    "id": "u4Fuctg7Cred",
    "outputId": "cab0a2da-96a0-40f0-b0ee-e733f1da6b16"
   },
   "outputs": [
    {
     "name": "stderr",
     "output_type": "stream",
     "text": [
      "/usr/local/lib/python3.7/dist-packages/sklearn/neural_network/_multilayer_perceptron.py:696: ConvergenceWarning: Stochastic Optimizer: Maximum iterations (1000) reached and the optimization hasn't converged yet.\n",
      "  ConvergenceWarning,\n"
     ]
    },
    {
     "name": "stdout",
     "output_type": "stream",
     "text": [
      "Feature: 0, Score: 0.00113\n",
      "Feature: 1, Score: -0.00553\n",
      "Feature: 2, Score: 0.00594\n",
      "Feature: 3, Score: 0.00028\n",
      "Feature: 4, Score: 0.00340\n",
      "Feature: 5, Score: -0.00147\n",
      "Feature: 6, Score: 0.00007\n",
      "Feature: 7, Score: -0.00050\n",
      "Feature: 8, Score: 0.00025\n",
      "Feature: 9, Score: -0.00012\n",
      "Feature: 10, Score: -0.00008\n",
      "Feature: 11, Score: 0.00075\n",
      "Feature: 12, Score: 0.00009\n",
      "Feature: 13, Score: 0.00027\n",
      "Feature: 14, Score: 0.00001\n",
      "Feature: 15, Score: -0.00086\n",
      "Feature: 16, Score: 0.00068\n",
      "Feature: 17, Score: -0.00035\n",
      "Feature: 18, Score: 0.00131\n",
      "Feature: 19, Score: -0.00031\n",
      "Feature: 20, Score: 0.00026\n",
      "Feature: 21, Score: -0.00016\n",
      "Feature: 22, Score: -0.00022\n",
      "Feature: 23, Score: 0.00019\n",
      "Feature: 24, Score: -0.00074\n",
      "Feature: 25, Score: 0.00027\n",
      "Feature: 26, Score: 0.00009\n",
      "Feature: 27, Score: -0.00001\n",
      "Feature: 28, Score: -0.00009\n",
      "Feature: 29, Score: -0.00028\n",
      "Feature: 30, Score: 0.00016\n",
      "Feature: 31, Score: 0.00083\n",
      "Feature: 32, Score: -0.00001\n",
      "Feature: 33, Score: 0.00000\n",
      "Feature: 34, Score: 0.00036\n",
      "Feature: 35, Score: 0.00022\n",
      "Feature: 36, Score: -0.00010\n",
      "Feature: 37, Score: -0.00002\n",
      "Feature: 38, Score: -0.00001\n",
      "Feature: 39, Score: -0.00011\n",
      "Feature: 40, Score: -0.00004\n",
      "Feature: 41, Score: 0.00002\n",
      "Feature: 42, Score: -0.00005\n",
      "Feature: 43, Score: 0.00052\n"
     ]
    },
    {
     "data": {
      "image/png": "[encoded data removed]",
      "text/plain": [
       "<Figure size 576x288 with 1 Axes>"
      ]
     },
     "metadata": {},
     "output_type": "display_data"
    }
   ],
   "source": [
    "modelo_MLP = MLPRegressor(hidden_layer_sizes=3, \n",
    "                            max_iter=1000, \n",
    "                            alpha=0.00001,\n",
    "                            learning_rate_init=0.001)  \n",
    "\n",
    "modelo_MLP.fit(X_train_new, y_train)\n",
    "\n",
    "importance = permutation_importance(modelo_MLP, X_train_new, y_train, n_repeats=10)\n",
    "\n",
    "# visualicemos la importancia de cada métrica, de las cuales sabemos\n",
    "# cuáles son las más importantes, de acuerdo a como se definieron al inicio:\n",
    "\n",
    "for i,v in enumerate(importance['importances_mean']):\n",
    "\tprint('Feature: %0d, Score: %.5f' % (i,v))\n",
    " \n",
    "plt.bar([x for x in range(len(importance['importances_mean']))], importance['importances_mean'])\n",
    "plt.show()"
   ]
  },
  {
   "cell_type": "markdown",
   "metadata": {
    "id": "VUIcDshs8MzG"
   },
   "source": [
    "#**Ejercicio-10.**"
   ]
  },
  {
   "cell_type": "code",
   "execution_count": null,
   "metadata": {
    "colab": {
     "base_uri": "https://localhost:8080/"
    },
    "id": "0lKNJNIt8N88",
    "outputId": "6cf1d94c-b660-4ed8-dfd3-728098a35bcf"
   },
   "outputs": [
    {
     "name": "stdout",
     "output_type": "stream",
     "text": [
      "\u001b[1m Bosque Aleatorio: \u001b[0m \n",
      " Mejor score obtenido con la mejor combinación: 98.0 %\n",
      " Mejor combinación de valores encontrados de los hiperparámetros: {'ccp_alpha': 0, 'class_weight': 'balanced', 'criterion': 'entropy', 'max_depth': 10, 'min_samples_split': 2}\n",
      " Métrica utilizada: MAPE\n",
      "\n",
      "\n",
      "\n"
     ]
    },
    {
     "name": "stderr",
     "output_type": "stream",
     "text": [
      "/usr/local/lib/python3.7/dist-packages/sklearn/model_selection/_validation.py:372: FitFailedWarning: \n",
      "14000 fits failed out of a total of 18000.\n",
      "The score on these train-test partitions for these parameters will be set to nan.\n",
      "If these failures are not expected, you can try to debug them by setting error_score='raise'.\n",
      "\n",
      "Below are more details about the failures:\n",
      "--------------------------------------------------------------------------------\n",
      "12000 fits failed with the following error:\n",
      "Traceback (most recent call last):\n",
      "  File \"/usr/local/lib/python3.7/dist-packages/sklearn/model_selection/_validation.py\", line 680, in _fit_and_score\n",
      "    estimator.fit(X_train, y_train, **fit_params)\n",
      "  File \"/usr/local/lib/python3.7/dist-packages/sklearn/ensemble/_forest.py\", line 367, in fit\n",
      "    y, expanded_class_weight = self._validate_y_class_weight(y)\n",
      "  File \"/usr/local/lib/python3.7/dist-packages/sklearn/ensemble/_forest.py\", line 783, in _validate_y_class_weight\n",
      "    expanded_class_weight = compute_sample_weight(class_weight, y_original)\n",
      "  File \"/usr/local/lib/python3.7/dist-packages/sklearn/utils/class_weight.py\", line 168, in compute_sample_weight\n",
      "    class_weight_k, classes=classes_full, y=y_full\n",
      "  File \"/usr/local/lib/python3.7/dist-packages/sklearn/utils/class_weight.py\", line 64, in compute_class_weight\n",
      "    raise ValueError(\"Class label {} not present.\".format(c))\n",
      "ValueError: Class label 0 not present.\n",
      "\n",
      "--------------------------------------------------------------------------------\n",
      "2000 fits failed with the following error:\n",
      "Traceback (most recent call last):\n",
      "  File \"/usr/local/lib/python3.7/dist-packages/sklearn/model_selection/_validation.py\", line 680, in _fit_and_score\n",
      "    estimator.fit(X_train, y_train, **fit_params)\n",
      "  File \"/usr/local/lib/python3.7/dist-packages/sklearn/ensemble/_forest.py\", line 467, in fit\n",
      "    for i, t in enumerate(trees)\n",
      "  File \"/usr/local/lib/python3.7/dist-packages/joblib/parallel.py\", line 1085, in __call__\n",
      "    if self.dispatch_one_batch(iterator):\n",
      "  File \"/usr/local/lib/python3.7/dist-packages/joblib/parallel.py\", line 901, in dispatch_one_batch\n",
      "    self._dispatch(tasks)\n",
      "  File \"/usr/local/lib/python3.7/dist-packages/joblib/parallel.py\", line 819, in _dispatch\n",
      "    job = self._backend.apply_async(batch, callback=cb)\n",
      "  File \"/usr/local/lib/python3.7/dist-packages/joblib/_parallel_backends.py\", line 208, in apply_async\n",
      "    result = ImmediateResult(func)\n",
      "  File \"/usr/local/lib/python3.7/dist-packages/joblib/_parallel_backends.py\", line 597, in __init__\n",
      "    self.results = batch()\n",
      "  File \"/usr/local/lib/python3.7/dist-packages/joblib/parallel.py\", line 289, in __call__\n",
      "    for func, args, kwargs in self.items]\n",
      "  File \"/usr/local/lib/python3.7/dist-packages/joblib/parallel.py\", line 289, in <listcomp>\n",
      "    for func, args, kwargs in self.items]\n",
      "  File \"/usr/local/lib/python3.7/dist-packages/sklearn/utils/fixes.py\", line 216, in __call__\n",
      "    return self.function(*args, **kwargs)\n",
      "  File \"/usr/local/lib/python3.7/dist-packages/sklearn/ensemble/_forest.py\", line 185, in _parallel_build_trees\n",
      "    tree.fit(X, y, sample_weight=curr_sample_weight, check_input=False)\n",
      "  File \"/usr/local/lib/python3.7/dist-packages/sklearn/tree/_classes.py\", line 942, in fit\n",
      "    X_idx_sorted=X_idx_sorted,\n",
      "  File \"/usr/local/lib/python3.7/dist-packages/sklearn/tree/_classes.py\", line 352, in fit\n",
      "    criterion = CRITERIA_CLF[self.criterion](\n",
      "KeyError: 'log_loss'\n",
      "\n",
      "  warnings.warn(some_fits_failed_message, FitFailedWarning)\n",
      "/usr/local/lib/python3.7/dist-packages/sklearn/model_selection/_search.py:972: UserWarning: One or more of the test scores are non-finite: [          nan           nan           nan           nan           nan\n",
      "           nan           nan           nan           nan           nan\n",
      "           nan           nan           nan           nan           nan\n",
      "           nan           nan           nan           nan           nan\n",
      "           nan           nan           nan           nan           nan\n",
      "           nan           nan           nan           nan           nan\n",
      "           nan           nan           nan           nan           nan\n",
      "           nan           nan           nan           nan           nan\n",
      "           nan           nan           nan           nan           nan\n",
      "           nan           nan           nan           nan           nan\n",
      "           nan           nan           nan           nan           nan\n",
      "           nan           nan           nan           nan           nan\n",
      "           nan           nan           nan           nan           nan\n",
      "           nan           nan           nan           nan           nan\n",
      "           nan           nan           nan           nan           nan\n",
      "           nan           nan           nan           nan           nan\n",
      "           nan           nan           nan           nan           nan\n",
      "           nan           nan           nan           nan           nan\n",
      "           nan           nan           nan           nan           nan\n",
      "           nan           nan           nan           nan           nan\n",
      "           nan           nan           nan           nan           nan\n",
      "           nan           nan           nan           nan           nan\n",
      "           nan           nan           nan           nan           nan\n",
      "           nan           nan           nan           nan           nan\n",
      "           nan           nan           nan           nan           nan\n",
      "           nan           nan           nan           nan           nan\n",
      "           nan           nan           nan           nan           nan\n",
      "           nan           nan           nan           nan           nan\n",
      "           nan           nan           nan           nan           nan\n",
      "           nan           nan           nan           nan           nan\n",
      " -126.84944812 -151.02858785 -162.57110445 -157.84035417 -155.55628366\n",
      " -130.35508795 -163.72102071 -152.5806193  -153.61167931 -145.87065196\n",
      " -126.00645724 -128.03511283 -143.01552893 -150.53060809 -150.64111527\n",
      " -114.58290836 -134.65914355 -143.44649782 -134.60852377 -145.1865124\n",
      " -113.85814635 -118.82446397 -140.89086489 -165.03767201 -148.55720471\n",
      " -147.0915074  -146.48198297 -148.37289212 -159.47238955 -167.26649201\n",
      " -116.15092205 -129.55430358 -163.4947297  -187.05774922 -158.60897361\n",
      "  -98.00180842 -129.28379757 -142.62776794 -132.16559208 -144.36934841\n",
      " -122.78643899 -112.81684477 -137.38052041 -127.19798336 -152.57525609\n",
      " -123.28315583 -132.49467299 -141.45729286 -146.70433898 -153.45037479\n",
      "           nan           nan           nan           nan           nan\n",
      "           nan           nan           nan           nan           nan\n",
      "           nan           nan           nan           nan           nan\n",
      "           nan           nan           nan           nan           nan\n",
      "           nan           nan           nan           nan           nan\n",
      "           nan           nan           nan           nan           nan\n",
      "           nan           nan           nan           nan           nan\n",
      "           nan           nan           nan           nan           nan\n",
      "           nan           nan           nan           nan           nan\n",
      "           nan           nan           nan           nan           nan\n",
      "           nan           nan           nan           nan           nan\n",
      "           nan           nan           nan           nan           nan\n",
      "           nan           nan           nan           nan           nan\n",
      "           nan           nan           nan           nan           nan\n",
      "           nan           nan           nan           nan           nan\n",
      "           nan           nan           nan           nan           nan\n",
      "           nan           nan           nan           nan           nan\n",
      "           nan           nan           nan           nan           nan\n",
      "           nan           nan           nan           nan           nan\n",
      "           nan           nan           nan           nan           nan\n",
      "           nan           nan           nan           nan           nan\n",
      "           nan           nan           nan           nan           nan\n",
      "           nan           nan           nan           nan           nan\n",
      "           nan           nan           nan           nan           nan\n",
      "           nan           nan           nan           nan           nan\n",
      "           nan           nan           nan           nan           nan\n",
      "           nan           nan           nan           nan           nan\n",
      "           nan           nan           nan           nan           nan\n",
      "           nan           nan           nan           nan           nan\n",
      "           nan           nan           nan           nan           nan\n",
      "           nan           nan           nan           nan           nan\n",
      "           nan           nan           nan           nan           nan\n",
      "           nan           nan           nan           nan           nan\n",
      "           nan           nan           nan           nan           nan\n",
      "           nan           nan           nan           nan           nan\n",
      " -137.84971928 -173.23984185 -173.81092655 -181.39293285 -147.23092351\n",
      " -125.37424662 -152.17111893 -143.00445864 -143.55848551 -188.28707836\n",
      " -126.04131949 -140.90846749 -163.21949961 -168.13604822 -128.19988498\n",
      " -119.19246807 -121.36619605 -133.72960838 -128.45878295 -159.85078096\n",
      " -124.32275392 -145.94294671 -159.44614471 -150.24219864 -156.55804853\n",
      " -152.76579914 -143.86272312 -159.47073395 -147.01391372 -140.40163092\n",
      " -125.68217015 -160.04649101 -136.30224343 -151.26540028 -147.03067183\n",
      " -122.72571064 -128.67872488 -145.45945602 -155.86533643 -157.55177326\n",
      " -105.99701849 -123.71974167 -138.31465968 -156.99858547 -152.58686484\n",
      " -106.38515058 -145.29000135 -111.33099121 -147.98680819 -134.01993718\n",
      "           nan           nan           nan           nan           nan\n",
      "           nan           nan           nan           nan           nan\n",
      "           nan           nan           nan           nan           nan\n",
      "           nan           nan           nan           nan           nan\n",
      "           nan           nan           nan           nan           nan\n",
      "           nan           nan           nan           nan           nan\n",
      "           nan           nan           nan           nan           nan\n",
      "           nan           nan           nan           nan           nan\n",
      "           nan           nan           nan           nan           nan\n",
      "           nan           nan           nan           nan           nan\n",
      "           nan           nan           nan           nan           nan\n",
      "           nan           nan           nan           nan           nan\n",
      "           nan           nan           nan           nan           nan\n",
      "           nan           nan           nan           nan           nan\n",
      "           nan           nan           nan           nan           nan\n",
      "           nan           nan           nan           nan           nan\n",
      "           nan           nan           nan           nan           nan\n",
      "           nan           nan           nan           nan           nan\n",
      "           nan           nan           nan           nan           nan\n",
      "           nan           nan           nan           nan           nan\n",
      "           nan           nan           nan           nan           nan\n",
      "           nan           nan           nan           nan           nan\n",
      "           nan           nan           nan           nan           nan\n",
      "           nan           nan           nan           nan           nan\n",
      "           nan           nan           nan           nan           nan\n",
      "           nan           nan           nan           nan           nan\n",
      "           nan           nan           nan           nan           nan\n",
      "           nan           nan           nan           nan           nan\n",
      "           nan           nan           nan           nan           nan\n",
      "           nan           nan           nan           nan           nan\n",
      "           nan           nan           nan           nan           nan\n",
      "           nan           nan           nan           nan           nan\n",
      "           nan           nan           nan           nan           nan\n",
      "           nan           nan           nan           nan           nan\n",
      "           nan           nan           nan           nan           nan\n",
      " -145.12075769 -150.49471802 -170.75912093 -136.10413115 -185.89470296\n",
      " -156.00475152 -145.82177678 -175.01251197 -166.21961321 -127.93022105\n",
      " -123.24893373 -127.46186082 -143.1815559  -150.61504809 -163.76096011\n",
      " -127.71494876 -132.37513887 -124.06636977 -149.04428972 -139.44470322\n",
      " -122.14047404 -139.17316864 -134.4492962  -158.65968735 -138.36470516\n",
      " -135.00516088 -136.25104044 -165.75384438 -157.59288796 -139.30157066\n",
      " -131.74415748 -127.80520313 -132.46092337 -143.50654552 -161.6309538\n",
      " -114.55093861 -121.34077152 -137.82817281 -143.71950093 -139.55958215\n",
      " -110.81846646 -153.06792085 -130.34212872 -149.68105017 -139.28542627\n",
      " -108.38321722 -121.38581676 -134.75168537 -134.08774163 -137.69892201\n",
      "           nan           nan           nan           nan           nan\n",
      "           nan           nan           nan           nan           nan\n",
      "           nan           nan           nan           nan           nan\n",
      "           nan           nan           nan           nan           nan\n",
      "           nan           nan           nan           nan           nan\n",
      "           nan           nan           nan           nan           nan\n",
      "           nan           nan           nan           nan           nan\n",
      "           nan           nan           nan           nan           nan\n",
      "           nan           nan           nan           nan           nan\n",
      "           nan           nan           nan           nan           nan\n",
      "           nan           nan           nan           nan           nan\n",
      "           nan           nan           nan           nan           nan\n",
      "           nan           nan           nan           nan           nan\n",
      "           nan           nan           nan           nan           nan\n",
      "           nan           nan           nan           nan           nan\n",
      "           nan           nan           nan           nan           nan\n",
      "           nan           nan           nan           nan           nan\n",
      "           nan           nan           nan           nan           nan\n",
      "           nan           nan           nan           nan           nan\n",
      "           nan           nan           nan           nan           nan\n",
      "           nan           nan           nan           nan           nan\n",
      "           nan           nan           nan           nan           nan\n",
      "           nan           nan           nan           nan           nan\n",
      "           nan           nan           nan           nan           nan\n",
      "           nan           nan           nan           nan           nan\n",
      "           nan           nan           nan           nan           nan\n",
      "           nan           nan           nan           nan           nan\n",
      "           nan           nan           nan           nan           nan\n",
      "           nan           nan           nan           nan           nan\n",
      "           nan           nan           nan           nan           nan\n",
      "           nan           nan           nan           nan           nan\n",
      "           nan           nan           nan           nan           nan\n",
      "           nan           nan           nan           nan           nan\n",
      "           nan           nan           nan           nan           nan\n",
      "           nan           nan           nan           nan           nan\n",
      " -140.5737731  -180.8259446  -147.87046628 -143.86337457 -155.45485855\n",
      " -136.46303628 -188.27489568 -152.6847384  -158.54484595 -162.81564876\n",
      " -118.34924601 -143.52608391 -128.212342   -155.36960472 -129.48687592\n",
      " -116.1645775  -118.93451571 -163.27008037 -143.75822958 -176.94221069\n",
      " -128.48928033 -128.02779311 -158.27569979 -154.29565266 -151.27417123\n",
      " -147.90995998 -145.52655226 -141.38722976 -157.14856907 -163.31207835\n",
      " -133.1751885  -146.07830781 -144.53995126 -153.39672975 -143.51964557\n",
      " -128.73878248 -134.24163607 -152.89099105 -126.64887056 -126.79299707\n",
      " -120.27851882 -138.9119815  -150.75098283 -150.99721507 -150.48098031\n",
      " -111.1376971  -122.27449753 -141.7848726  -128.5260907  -166.34481276\n",
      "           nan           nan           nan           nan           nan\n",
      "           nan           nan           nan           nan           nan\n",
      "           nan           nan           nan           nan           nan\n",
      "           nan           nan           nan           nan           nan\n",
      "           nan           nan           nan           nan           nan]\n",
      "  category=UserWarning,\n"
     ]
    }
   ],
   "source": [
    "make_grid(dicc_grid_randomforest, modelos[1], mi_MAPE,'Bosque Aleatorio')"
   ]
  },
  {
   "cell_type": "code",
   "execution_count": null,
   "metadata": {
    "colab": {
     "base_uri": "https://localhost:8080/",
     "height": 945
    },
    "id": "Inkq5YQe8PED",
    "outputId": "2defdad2-868c-45da-99e7-88f81cb2f833"
   },
   "outputs": [
    {
     "name": "stdout",
     "output_type": "stream",
     "text": [
      "Feature: 0, Score: 0.06300\n",
      "Feature: 1, Score: 0.00000\n",
      "Feature: 2, Score: 0.00000\n",
      "Feature: 3, Score: 0.00000\n",
      "Feature: 4, Score: 0.00900\n",
      "Feature: 5, Score: 0.04900\n",
      "Feature: 6, Score: 0.00000\n",
      "Feature: 7, Score: 0.00000\n",
      "Feature: 8, Score: 0.00000\n",
      "Feature: 9, Score: 0.00700\n",
      "Feature: 10, Score: 0.00000\n",
      "Feature: 11, Score: 0.00000\n",
      "Feature: 12, Score: 0.00000\n",
      "Feature: 13, Score: 0.00000\n",
      "Feature: 14, Score: 0.00000\n",
      "Feature: 15, Score: 0.00000\n",
      "Feature: 16, Score: 0.00100\n",
      "Feature: 17, Score: 0.01500\n",
      "Feature: 18, Score: 0.01000\n",
      "Feature: 19, Score: 0.01700\n",
      "Feature: 20, Score: -0.00200\n",
      "Feature: 21, Score: 0.02700\n",
      "Feature: 22, Score: 0.00900\n",
      "Feature: 23, Score: 0.00000\n",
      "Feature: 24, Score: 0.01200\n",
      "Feature: 25, Score: 0.00000\n",
      "Feature: 26, Score: 0.00000\n",
      "Feature: 27, Score: 0.00000\n",
      "Feature: 28, Score: 0.00000\n",
      "Feature: 29, Score: 0.00000\n",
      "Feature: 30, Score: 0.00000\n",
      "Feature: 31, Score: 0.01000\n",
      "Feature: 32, Score: 0.00000\n",
      "Feature: 33, Score: 0.01000\n",
      "Feature: 34, Score: -0.00100\n",
      "Feature: 35, Score: 0.00000\n",
      "Feature: 36, Score: 0.00000\n",
      "Feature: 37, Score: 0.00000\n",
      "Feature: 38, Score: 0.07000\n"
     ]
    },
    {
     "data": {
      "image/png": "[encoded data removed]",
      "text/plain": [
       "<Figure size 576x288 with 1 Axes>"
      ]
     },
     "metadata": {},
     "output_type": "display_data"
    }
   ],
   "source": [
    "modelo_MLP = RandomForestClassifier(\n",
    "    ccp_alpha= 0.01, class_weight= 'balanced', criterion='entropy', max_depth= 20, min_samples_split=2\n",
    ")  \n",
    "\n",
    "modelo_MLP.fit(X_test_new, y_test)\n",
    "\n",
    "importance = permutation_importance(modelo_MLP, X_test_new, y_test, n_repeats=10)\n",
    "\n",
    "# visualicemos la importancia de cada métrica, de las cuales sabemos\n",
    "# cuáles son las más importantes, de acuerdo a como se definieron al inicio:\n",
    "\n",
    "for i,v in enumerate(importance['importances_mean']):\n",
    "\tprint('Feature: %0d, Score: %.5f' % (i,v))\n",
    " \n",
    "plt.bar([x for x in range(len(importance['importances_mean']))], importance['importances_mean'])\n",
    "plt.show()"
   ]
  },
  {
   "cell_type": "markdown",
   "metadata": {
    "id": "5LJl6oql8Pc8"
   },
   "source": [
    "#**Ejercicio-11.**"
   ]
  },
  {
   "cell_type": "code",
   "execution_count": null,
   "metadata": {
    "colab": {
     "base_uri": "https://localhost:8080/"
    },
    "id": "vzWX3GsxcbgG",
    "outputId": "4ed0e9f5-1870-4c13-a045-0db872894fb1"
   },
   "outputs": [
    {
     "name": "stdout",
     "output_type": "stream",
     "text": [
      "\u001b[1m Regresión Lineal Multiple: \u001b[0m \n",
      " Mejor score obtenido con la mejor combinación: 294.75 %\n",
      " Mejor combinación de valores encontrados de los hiperparámetros: {'fit_intercept': True, 'n_jobs': 1}\n",
      " Métrica utilizada: MAPE\n",
      "\n",
      "\n",
      "\n"
     ]
    }
   ],
   "source": [
    "#Encontrar Mejores hiperparametros para modelo de regresion lineal multiple\n",
    "make_grid(dicc_grid_reg, modelos[0], mi_MAPE,'Regresión Lineal Multiple')"
   ]
  },
  {
   "cell_type": "code",
   "execution_count": null,
   "metadata": {
    "colab": {
     "base_uri": "https://localhost:8080/",
     "height": 945
    },
    "id": "-YiSnt9t8RfN",
    "outputId": "e1df4892-2f24-4a91-df07-1920629c112f"
   },
   "outputs": [
    {
     "name": "stdout",
     "output_type": "stream",
     "text": [
      "Feature: 0, Score: 1.01313\n",
      "Feature: 1, Score: 0.01057\n",
      "Feature: 2, Score: 0.34926\n",
      "Feature: 3, Score: 0.00496\n",
      "Feature: 4, Score: 0.00265\n",
      "Feature: 5, Score: 0.09066\n",
      "Feature: 6, Score: 0.24486\n",
      "Feature: 7, Score: 0.00237\n",
      "Feature: 8, Score: 0.07109\n",
      "Feature: 9, Score: 0.38917\n",
      "Feature: 10, Score: 0.22546\n",
      "Feature: 11, Score: 0.17057\n",
      "Feature: 12, Score: 0.28429\n",
      "Feature: 13, Score: 0.36403\n",
      "Feature: 14, Score: 0.62216\n",
      "Feature: 15, Score: 0.46017\n",
      "Feature: 16, Score: 0.20459\n",
      "Feature: 17, Score: 0.17021\n",
      "Feature: 18, Score: 0.07445\n",
      "Feature: 19, Score: 0.05953\n",
      "Feature: 20, Score: 0.17058\n",
      "Feature: 21, Score: 0.13699\n",
      "Feature: 22, Score: 0.06156\n",
      "Feature: 23, Score: 0.08309\n",
      "Feature: 24, Score: 0.04263\n",
      "Feature: 25, Score: 0.02500\n",
      "Feature: 26, Score: 0.00402\n",
      "Feature: 27, Score: 0.00283\n",
      "Feature: 28, Score: 0.01814\n",
      "Feature: 29, Score: 0.00399\n",
      "Feature: 30, Score: 0.02976\n",
      "Feature: 31, Score: 0.15651\n",
      "Feature: 32, Score: 0.00017\n",
      "Feature: 33, Score: 0.01909\n",
      "Feature: 34, Score: 0.30384\n",
      "Feature: 35, Score: 0.02378\n",
      "Feature: 36, Score: -0.00032\n",
      "Feature: 37, Score: 0.00419\n",
      "Feature: 38, Score: 0.00108\n"
     ]
    },
    {
     "data": {
      "image/png": "[encoded data removed]",
      "text/plain": [
       "<Figure size 576x288 with 1 Axes>"
      ]
     },
     "metadata": {},
     "output_type": "display_data"
    }
   ],
   "source": [
    "modelo_MLP = LinearRegression(\n",
    "    n_jobs= 1,\n",
    "    fit_intercept=True\n",
    ")  \n",
    "\n",
    "modelo_MLP.fit(X_test_new, y_test)\n",
    "\n",
    "importance = permutation_importance(modelo_MLP, X_test_new, y_test, n_repeats=10)\n",
    "\n",
    "# visualicemos la importancia de cada métrica, de las cuales sabemos\n",
    "# cuáles son las más importantes, de acuerdo a como se definieron al inicio:\n",
    "\n",
    "for i,v in enumerate(importance['importances_mean']):\n",
    "\tprint('Feature: %0d, Score: %.5f' % (i,v))\n",
    " \n",
    "plt.bar([x for x in range(len(importance['importances_mean']))], importance['importances_mean'])\n",
    "plt.show()"
   ]
  },
  {
   "cell_type": "markdown",
   "metadata": {
    "id": "IKW72uyk8Sbc"
   },
   "source": [
    "#**Ejercicio-12.**"
   ]
  },
  {
   "cell_type": "code",
   "execution_count": null,
   "metadata": {
    "id": "P8lXI3-Bm5Nx"
   },
   "outputs": [],
   "source": []
  },
  {
   "cell_type": "markdown",
   "metadata": {
    "id": "yf1DvJwCeEOa"
   },
   "source": [
    "# Comparacion de resultados con el articulo de Moro-Rita-Vala\n",
    "\n",
    "Se concluye que los resultados no son los mismo por las siguientes razones:\n",
    "  * El articulo usa support vector machine como modelo para realizar las predicciones.\n",
    "  * El campo type es que mas relevancia tiene en el articulo, en nuestro caso se ocupo otras trasnformaciones que no contribuye al resultado esperado.\n",
    "  * Para el modelo del articulo menciona que es mejor tener intacto las variables de entrada, pero en nuestro caso al ocupar el perceptron multicapa, los hiperparametros como la funcion de activiacion, el numero de neuronas y capas ocultas para una salida que se espera en un principio binaria o entre 0 - 1, se tiene que estandarizar y posterior con la funcion de costos, le aleatoriedad al momento de realizar las predicciones y obtener el MAPE, asi respectivamente con los hiperparametros de regresion lineal y bosque aleatorio\n",
    "  * La trasnformaciones realizadas para los elementos de entrada asi como los de salida\n",
    "  * El numero de iteracciones respectivamente para cada caso  "
   ]
  },
  {
   "cell_type": "markdown",
   "metadata": {
    "id": "AHUp59n4eK96"
   },
   "source": [
    "# Conclusiones de la actividad\n",
    "\n",
    "* En esta acitividad inicia con la regresion lineal que busca la mejor recta con el minimo de error para la clasificacion, el bosque aleatorio que tiende a combinar cientos de árboles de decisión y luego entrena cada árbol de decisión en una muestra diferente de las observaciones, las predicciones finales del bosque aleatorio se realizan promediando las predicciones de cada árbol individual para evitar el *overfit*.y el perceptron multicapa que es una combinacion de varios perceptrones simples, esto es un clasificador lineal que busca generar un hiperplano con un recta ortogonal en funcion de rectas, estas rectas en el perceton multicapa son varias para clasificar mejor la clases.\n",
    "* Las funciones de errores que se utlizaron fueron RMSE, MAE, MAPE, para cada uno de los modelos anteriores, obteniendo cifras en un principio altas, para poder verificar el desempeño de los ejercicos posteriores.\n",
    "* Se aplicó la funcion de regresion dummy para generar predicciones con reglas simples y poder hacer comparaciones con otros modelos de regresion.\n",
    "* Usando los modelos de regresión lineal múltiple, el bosque aleatorio y el perceptrón multicapa obtenemos errores de modelos de regresion altos pero menores a comparacion del modelo de regresion dummy del ejercicio anterior, en una primera aproximacion con los errores podemos apreciar que son altos por los que el modelo de regresion lineal, lo que nos permite suponer que los modelos estan sobrentrenados porque los errores altos que son parecidos a la varianza o desviacion estandar significa que el modelo no esta identificando correctamente o aprendiendo solo con la clase positiva.\n",
    "* Al obtener los diagramas de caja y bigote con MAPE observamos que con el modelo de regresion lineal y bosque aleatoria existe algun valor atipico u outlier, en el perceptron multicapa mostro mejor resultado sin nungun valor atipico y con menos MAPE, comparando con las metricas del articulo observamos que aun tenemos mayor porcentaje de error\n",
    "* Se uso el gridsearh para buscar los mejores hiperparametros para posteriormente analizar la importance features con permutacion de sklearn de los siguientes modelos\n",
    "  * Para el perceptron multicapa se observan la grafica de barras con varias features que demustra el numero de features en el perceptron y su score de que tan alto es la relacion de las features con la variable target, por lo que a pesar de tener 43 features alrededor de 10 features son las que mejor score tiene en relacion con la variable target.\n",
    " * Para el bosque aleatorio son alrededor de 11 features con mejor score de relacion con la variable target\n",
    " * Para regresion lineal obtenemos alrededor de 13 features con mejor score de relacion con la variable target.\n",
    " Esto demuestra lo que se menciona en la practica al usar el perceptron multicapa se tiene que realizar un mayor testing tanto con sus hiperparametros como en su capa oculta para obtener mejores resultados en comparacion a los anteriores modelos, para el bosque aleatorio se aprecio que a pesar de no tener todas sus features con buen score, tiene un buen numero o desempeño en el score, asi como regresion lineal multiple tiene un mejor score en sus features asi como menos features diferente de cero, esto es debido a que el perceptron multicapa esta compuesto de un conjunto de clasificadores lineales como lo es el modelo de regresion lineal multipaca, mientras que el bosque aleatorio hace el promedio de los resultados obtendios por varios arboles de decisiones, entonces si el feature importance hace relevancia a que tan fuerte es la relacion de las fetures con la variable target, podemos concluir de el modelo de perceptron multiple al tener los scores de importance feature bajos no depende demasiado de estas features en su modelo, lo que es un indicador que se requiere de seguir haciendo modificaciones en sus hiperparametros hasta encontrar el adecuado, como lo indica en la explicacion practica que este modelo no es tan ocupado a diferencia de otros por el tiempo para entrenar y mejorar el modelo para realizar mejores predicciones.\n",
    "\n",
    "\n",
    "Por último y comparativamente con el analisis realizado por Moro-Rita-Vala, el MAPE en la variable de salida LPE se ubica en 26.9% el cual se encuentra bastante alejado de nuestros resutaldos, lo cual indica que se deberian ajustar parametros para mejorar esta metrica."
   ]
  },
  {
   "cell_type": "markdown",
   "metadata": {
    "id": "7ql_r2G-DB_m"
   },
   "source": [
    "###**Fin de la Actividad de la semana 7.**"
   ]
  }
 ],
 "metadata": {
  "colab": {
   "collapsed_sections": [],
   "include_colab_link": true,
   "provenance": []
  },
  "kernelspec": {
   "display_name": "Python 3 (ipykernel)",
   "language": "python",
   "name": "python3"
  },
  "language_info": {
   "codemirror_mode": {
    "name": "ipython",
    "version": 3
   },
   "file_extension": ".py",
   "mimetype": "text/x-python",
   "name": "python",
   "nbconvert_exporter": "python",
   "pygments_lexer": "ipython3",
   "version": "3.9.18"
  }
 },
 "nbformat": 4,
 "nbformat_minor": 1
}
